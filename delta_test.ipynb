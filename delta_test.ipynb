{
 "cells": [
  {
   "cell_type": "code",
   "execution_count": 44,
   "metadata": {},
   "outputs": [
    {
     "data": {
      "text/plain": [
       "8"
      ]
     },
     "execution_count": 44,
     "metadata": {},
     "output_type": "execute_result"
    }
   ],
   "source": [
    "from delta_surface import *\n",
    "from concurrent.futures import ThreadPoolExecutor"
   ]
  },
  {
   "cell_type": "code",
   "execution_count": 2,
   "metadata": {},
   "outputs": [],
   "source": [
    "test = delta_suface(['TSLA', 'AAPL', 'MSFT'])"
   ]
  },
  {
   "cell_type": "code",
   "execution_count": 3,
   "metadata": {},
   "outputs": [],
   "source": [
    "#test = delta_suface(['AAPL', 'TSLA'])"
   ]
  },
  {
   "cell_type": "code",
   "execution_count": 4,
   "metadata": {},
   "outputs": [
    {
     "name": "stdout",
     "output_type": "stream",
     "text": [
      "[*********************100%***********************]  3 of 3 completed\n"
     ]
    }
   ],
   "source": [
    "test.get_px()"
   ]
  },
  {
   "cell_type": "code",
   "execution_count": 5,
   "metadata": {},
   "outputs": [],
   "source": [
    "test.poly_chain()"
   ]
  },
  {
   "cell_type": "code",
   "execution_count": 6,
   "metadata": {},
   "outputs": [],
   "source": [
    "test.poly_parse()"
   ]
  },
  {
   "cell_type": "code",
   "execution_count": 7,
   "metadata": {},
   "outputs": [],
   "source": [
    "test.iv_calcs()"
   ]
  },
  {
   "cell_type": "code",
   "execution_count": 47,
   "metadata": {},
   "outputs": [
    {
     "data": {
      "text/html": [
       "<div>\n",
       "<style scoped>\n",
       "    .dataframe tbody tr th:only-of-type {\n",
       "        vertical-align: middle;\n",
       "    }\n",
       "\n",
       "    .dataframe tbody tr th {\n",
       "        vertical-align: top;\n",
       "    }\n",
       "\n",
       "    .dataframe thead th {\n",
       "        text-align: right;\n",
       "    }\n",
       "</style>\n",
       "<table border=\"1\" class=\"dataframe\">\n",
       "  <thead>\n",
       "    <tr style=\"text-align: right;\">\n",
       "      <th></th>\n",
       "      <th>v</th>\n",
       "      <th>vw</th>\n",
       "      <th>o</th>\n",
       "      <th>c</th>\n",
       "      <th>h</th>\n",
       "      <th>l</th>\n",
       "      <th>t</th>\n",
       "      <th>n</th>\n",
       "      <th>ticker</th>\n",
       "      <th>date</th>\n",
       "    </tr>\n",
       "  </thead>\n",
       "  <tbody>\n",
       "    <tr>\n",
       "      <th>0</th>\n",
       "      <td>1.0</td>\n",
       "      <td>177.4200</td>\n",
       "      <td>177.42</td>\n",
       "      <td>177.42</td>\n",
       "      <td>177.42</td>\n",
       "      <td>177.42</td>\n",
       "      <td>1.684469e+12</td>\n",
       "      <td>1.0</td>\n",
       "      <td>O:TSLA230616C00001670</td>\n",
       "      <td>2023-05-19</td>\n",
       "    </tr>\n",
       "    <tr>\n",
       "      <th>1</th>\n",
       "      <td>9.0</td>\n",
       "      <td>185.8911</td>\n",
       "      <td>186.22</td>\n",
       "      <td>185.85</td>\n",
       "      <td>186.22</td>\n",
       "      <td>185.85</td>\n",
       "      <td>1.684814e+12</td>\n",
       "      <td>5.0</td>\n",
       "      <td>O:TSLA230616C00001670</td>\n",
       "      <td>2023-05-23</td>\n",
       "    </tr>\n",
       "    <tr>\n",
       "      <th>2</th>\n",
       "      <td>19.0</td>\n",
       "      <td>183.0658</td>\n",
       "      <td>184.15</td>\n",
       "      <td>182.25</td>\n",
       "      <td>184.15</td>\n",
       "      <td>182.00</td>\n",
       "      <td>1.684987e+12</td>\n",
       "      <td>7.0</td>\n",
       "      <td>O:TSLA230616C00001670</td>\n",
       "      <td>2023-05-25</td>\n",
       "    </tr>\n",
       "    <tr>\n",
       "      <th>3</th>\n",
       "      <td>2.0</td>\n",
       "      <td>195.6300</td>\n",
       "      <td>195.63</td>\n",
       "      <td>195.63</td>\n",
       "      <td>195.63</td>\n",
       "      <td>195.63</td>\n",
       "      <td>1.685506e+12</td>\n",
       "      <td>1.0</td>\n",
       "      <td>O:TSLA230616C00001670</td>\n",
       "      <td>2023-05-31</td>\n",
       "    </tr>\n",
       "    <tr>\n",
       "      <th>4</th>\n",
       "      <td>2.0</td>\n",
       "      <td>213.5700</td>\n",
       "      <td>213.57</td>\n",
       "      <td>213.57</td>\n",
       "      <td>213.57</td>\n",
       "      <td>213.57</td>\n",
       "      <td>1.685678e+12</td>\n",
       "      <td>1.0</td>\n",
       "      <td>O:TSLA230616C00001670</td>\n",
       "      <td>2023-06-02</td>\n",
       "    </tr>\n",
       "    <tr>\n",
       "      <th>...</th>\n",
       "      <td>...</td>\n",
       "      <td>...</td>\n",
       "      <td>...</td>\n",
       "      <td>...</td>\n",
       "      <td>...</td>\n",
       "      <td>...</td>\n",
       "      <td>...</td>\n",
       "      <td>...</td>\n",
       "      <td>...</td>\n",
       "      <td>...</td>\n",
       "    </tr>\n",
       "    <tr>\n",
       "      <th>4350</th>\n",
       "      <td>499.0</td>\n",
       "      <td>0.0203</td>\n",
       "      <td>0.03</td>\n",
       "      <td>0.02</td>\n",
       "      <td>0.03</td>\n",
       "      <td>0.02</td>\n",
       "      <td>1.685419e+12</td>\n",
       "      <td>44.0</td>\n",
       "      <td>O:MSFT230616C00520000</td>\n",
       "      <td>2023-05-30</td>\n",
       "    </tr>\n",
       "    <tr>\n",
       "      <th>4351</th>\n",
       "      <td>5.0</td>\n",
       "      <td>0.0100</td>\n",
       "      <td>0.01</td>\n",
       "      <td>0.01</td>\n",
       "      <td>0.01</td>\n",
       "      <td>0.01</td>\n",
       "      <td>1.685506e+12</td>\n",
       "      <td>3.0</td>\n",
       "      <td>O:MSFT230616C00520000</td>\n",
       "      <td>2023-05-31</td>\n",
       "    </tr>\n",
       "    <tr>\n",
       "      <th>4352</th>\n",
       "      <td>16.0</td>\n",
       "      <td>0.0100</td>\n",
       "      <td>0.01</td>\n",
       "      <td>0.01</td>\n",
       "      <td>0.01</td>\n",
       "      <td>0.01</td>\n",
       "      <td>1.685592e+12</td>\n",
       "      <td>2.0</td>\n",
       "      <td>O:MSFT230616C00520000</td>\n",
       "      <td>2023-06-01</td>\n",
       "    </tr>\n",
       "    <tr>\n",
       "      <th>4353</th>\n",
       "      <td>2.0</td>\n",
       "      <td>0.0200</td>\n",
       "      <td>0.02</td>\n",
       "      <td>0.02</td>\n",
       "      <td>0.02</td>\n",
       "      <td>0.02</td>\n",
       "      <td>1.686024e+12</td>\n",
       "      <td>1.0</td>\n",
       "      <td>O:MSFT230616C00520000</td>\n",
       "      <td>2023-06-06</td>\n",
       "    </tr>\n",
       "    <tr>\n",
       "      <th>4354</th>\n",
       "      <td>2.0</td>\n",
       "      <td>0.0100</td>\n",
       "      <td>0.01</td>\n",
       "      <td>0.01</td>\n",
       "      <td>0.01</td>\n",
       "      <td>0.01</td>\n",
       "      <td>1.686629e+12</td>\n",
       "      <td>1.0</td>\n",
       "      <td>O:MSFT230616C00520000</td>\n",
       "      <td>2023-06-13</td>\n",
       "    </tr>\n",
       "  </tbody>\n",
       "</table>\n",
       "<p>4355 rows × 10 columns</p>\n",
       "</div>"
      ],
      "text/plain": [
       "          v        vw       o       c       h       l             t     n  \\\n",
       "0       1.0  177.4200  177.42  177.42  177.42  177.42  1.684469e+12   1.0   \n",
       "1       9.0  185.8911  186.22  185.85  186.22  185.85  1.684814e+12   5.0   \n",
       "2      19.0  183.0658  184.15  182.25  184.15  182.00  1.684987e+12   7.0   \n",
       "3       2.0  195.6300  195.63  195.63  195.63  195.63  1.685506e+12   1.0   \n",
       "4       2.0  213.5700  213.57  213.57  213.57  213.57  1.685678e+12   1.0   \n",
       "...     ...       ...     ...     ...     ...     ...           ...   ...   \n",
       "4350  499.0    0.0203    0.03    0.02    0.03    0.02  1.685419e+12  44.0   \n",
       "4351    5.0    0.0100    0.01    0.01    0.01    0.01  1.685506e+12   3.0   \n",
       "4352   16.0    0.0100    0.01    0.01    0.01    0.01  1.685592e+12   2.0   \n",
       "4353    2.0    0.0200    0.02    0.02    0.02    0.02  1.686024e+12   1.0   \n",
       "4354    2.0    0.0100    0.01    0.01    0.01    0.01  1.686629e+12   1.0   \n",
       "\n",
       "                     ticker        date  \n",
       "0     O:TSLA230616C00001670  2023-05-19  \n",
       "1     O:TSLA230616C00001670  2023-05-23  \n",
       "2     O:TSLA230616C00001670  2023-05-25  \n",
       "3     O:TSLA230616C00001670  2023-05-31  \n",
       "4     O:TSLA230616C00001670  2023-06-02  \n",
       "...                     ...         ...  \n",
       "4350  O:MSFT230616C00520000  2023-05-30  \n",
       "4351  O:MSFT230616C00520000  2023-05-31  \n",
       "4352  O:MSFT230616C00520000  2023-06-01  \n",
       "4353  O:MSFT230616C00520000  2023-06-06  \n",
       "4354  O:MSFT230616C00520000  2023-06-13  \n",
       "\n",
       "[4355 rows x 10 columns]"
      ]
     },
     "execution_count": 47,
     "metadata": {},
     "output_type": "execute_result"
    }
   ],
   "source": [
    "test.hist_poly_thread(thread_count=16)"
   ]
  },
  {
   "cell_type": "code",
   "execution_count": 22,
   "metadata": {},
   "outputs": [],
   "source": [
    "test.delta_curve(sf = 0.1)"
   ]
  },
  {
   "cell_type": "code",
   "execution_count": 23,
   "metadata": {},
   "outputs": [
    {
     "data": {
      "text/html": [
       "<div>\n",
       "<style scoped>\n",
       "    .dataframe tbody tr th:only-of-type {\n",
       "        vertical-align: middle;\n",
       "    }\n",
       "\n",
       "    .dataframe tbody tr th {\n",
       "        vertical-align: top;\n",
       "    }\n",
       "\n",
       "    .dataframe thead th {\n",
       "        text-align: right;\n",
       "    }\n",
       "</style>\n",
       "<table border=\"1\" class=\"dataframe\">\n",
       "  <thead>\n",
       "    <tr style=\"text-align: right;\">\n",
       "      <th></th>\n",
       "      <th>TSLA</th>\n",
       "      <th>AAPL</th>\n",
       "      <th>MSFT</th>\n",
       "    </tr>\n",
       "  </thead>\n",
       "  <tbody>\n",
       "    <tr>\n",
       "      <th>0.50</th>\n",
       "      <td>0.906329</td>\n",
       "      <td>0.979212</td>\n",
       "      <td>0.983259</td>\n",
       "    </tr>\n",
       "    <tr>\n",
       "      <th>0.51</th>\n",
       "      <td>0.902114</td>\n",
       "      <td>0.979212</td>\n",
       "      <td>0.983259</td>\n",
       "    </tr>\n",
       "    <tr>\n",
       "      <th>0.52</th>\n",
       "      <td>0.897982</td>\n",
       "      <td>0.979212</td>\n",
       "      <td>0.983259</td>\n",
       "    </tr>\n",
       "    <tr>\n",
       "      <th>0.53</th>\n",
       "      <td>0.893961</td>\n",
       "      <td>0.979212</td>\n",
       "      <td>0.983259</td>\n",
       "    </tr>\n",
       "    <tr>\n",
       "      <th>0.54</th>\n",
       "      <td>0.890075</td>\n",
       "      <td>0.979212</td>\n",
       "      <td>0.983259</td>\n",
       "    </tr>\n",
       "    <tr>\n",
       "      <th>...</th>\n",
       "      <td>...</td>\n",
       "      <td>...</td>\n",
       "      <td>...</td>\n",
       "    </tr>\n",
       "    <tr>\n",
       "      <th>1.46</th>\n",
       "      <td>0.000000</td>\n",
       "      <td>0.000000</td>\n",
       "      <td>0.000000</td>\n",
       "    </tr>\n",
       "    <tr>\n",
       "      <th>1.47</th>\n",
       "      <td>0.000000</td>\n",
       "      <td>0.000000</td>\n",
       "      <td>0.000000</td>\n",
       "    </tr>\n",
       "    <tr>\n",
       "      <th>1.48</th>\n",
       "      <td>0.000000</td>\n",
       "      <td>0.000000</td>\n",
       "      <td>0.000000</td>\n",
       "    </tr>\n",
       "    <tr>\n",
       "      <th>1.49</th>\n",
       "      <td>0.000000</td>\n",
       "      <td>0.000000</td>\n",
       "      <td>0.000000</td>\n",
       "    </tr>\n",
       "    <tr>\n",
       "      <th>1.50</th>\n",
       "      <td>0.000000</td>\n",
       "      <td>0.000000</td>\n",
       "      <td>0.000000</td>\n",
       "    </tr>\n",
       "  </tbody>\n",
       "</table>\n",
       "<p>101 rows × 3 columns</p>\n",
       "</div>"
      ],
      "text/plain": [
       "          TSLA      AAPL      MSFT\n",
       "0.50  0.906329  0.979212  0.983259\n",
       "0.51  0.902114  0.979212  0.983259\n",
       "0.52  0.897982  0.979212  0.983259\n",
       "0.53  0.893961  0.979212  0.983259\n",
       "0.54  0.890075  0.979212  0.983259\n",
       "...        ...       ...       ...\n",
       "1.46  0.000000  0.000000  0.000000\n",
       "1.47  0.000000  0.000000  0.000000\n",
       "1.48  0.000000  0.000000  0.000000\n",
       "1.49  0.000000  0.000000  0.000000\n",
       "1.50  0.000000  0.000000  0.000000\n",
       "\n",
       "[101 rows x 3 columns]"
      ]
     },
     "execution_count": 23,
     "metadata": {},
     "output_type": "execute_result"
    }
   ],
   "source": [
    "test.curve_df"
   ]
  },
  {
   "attachments": {},
   "cell_type": "markdown",
   "metadata": {},
   "source": [
    "When we reach max or min for first time outwith 50d, maybe we stick to 0/1 from there"
   ]
  },
  {
   "cell_type": "code",
   "execution_count": 24,
   "metadata": {},
   "outputs": [],
   "source": [
    "vol_df = test.delta_df[test.delta_df['ticker'] == 'MSFT'].sort_values('strike')"
   ]
  },
  {
   "cell_type": "code",
   "execution_count": 25,
   "metadata": {},
   "outputs": [],
   "source": [
    "x = test.curve_df.index\n",
    "y = test.curve_df['MSFT']\n",
    "\n",
    "x_init = vol_df['k_norm']\n",
    "y_init = vol_df['pv_delta']\n",
    "\n",
    "x_new = np.arange(0.5,1.51,0.01)"
   ]
  },
  {
   "cell_type": "code",
   "execution_count": 26,
   "metadata": {},
   "outputs": [],
   "source": [
    "from scipy import interpolate"
   ]
  },
  {
   "cell_type": "code",
   "execution_count": 40,
   "metadata": {},
   "outputs": [],
   "source": [
    "spl = interpolate.UnivariateSpline(x, y)\n",
    "spl.set_smoothing_factor(0.075)"
   ]
  },
  {
   "cell_type": "code",
   "execution_count": 41,
   "metadata": {},
   "outputs": [],
   "source": [
    "y_new = pd.DataFrame(spl(x_new)).cummin()[::-1].cummax()[::-1]\n",
    "y_new.clip(lower = 0, upper = 1, inplace = True)"
   ]
  },
  {
   "cell_type": "code",
   "execution_count": 42,
   "metadata": {},
   "outputs": [],
   "source": [
    "import matplotlib.pyplot as plt"
   ]
  },
  {
   "cell_type": "code",
   "execution_count": 43,
   "metadata": {},
   "outputs": [
    {
     "data": {
      "text/plain": [
       "[<matplotlib.lines.Line2D at 0x14bdd2940>,\n",
       " <matplotlib.lines.Line2D at 0x14bdd2af0>,\n",
       " <matplotlib.lines.Line2D at 0x14dc54f10>]"
      ]
     },
     "execution_count": 43,
     "metadata": {},
     "output_type": "execute_result"
    },
    {
     "data": {
      "image/png": "[encoded data removed]",
      "text/plain": [
       "<Figure size 640x480 with 1 Axes>"
      ]
     },
     "metadata": {},
     "output_type": "display_data"
    }
   ],
   "source": [
    "plt.plot(x, y, 'x', x_new, y_new, '-', x_init, y_init, '--')"
   ]
  },
  {
   "cell_type": "code",
   "execution_count": null,
   "metadata": {},
   "outputs": [],
   "source": []
  }
 ],
 "metadata": {
  "kernelspec": {
   "display_name": "options",
   "language": "python",
   "name": "python3"
  },
  "language_info": {
   "codemirror_mode": {
    "name": "ipython",
    "version": 3
   },
   "file_extension": ".py",
   "mimetype": "text/x-python",
   "name": "python",
   "nbconvert_exporter": "python",
   "pygments_lexer": "ipython3",
   "version": "3.9.13"
  },
  "orig_nbformat": 4,
  "vscode": {
   "interpreter": {
    "hash": "0250ec5d23cbb2fe25831f39db261d937bc48e46d302e777121b762c79c3015f"
   }
  }
 },
 "nbformat": 4,
 "nbformat_minor": 2
}
