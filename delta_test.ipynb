{
 "cells": [
  {
   "cell_type": "code",
   "execution_count": 1,
   "metadata": {},
   "outputs": [],
   "source": [
    "from delta_surface import *\n",
    "from concurrent.futures import ThreadPoolExecutor"
   ]
  },
  {
   "cell_type": "code",
   "execution_count": 2,
   "metadata": {},
   "outputs": [],
   "source": [
    "test = delta_suface(['TSLA', 'AAPL', 'MSFT'])"
   ]
  },
  {
   "cell_type": "code",
   "execution_count": 3,
   "metadata": {},
   "outputs": [],
   "source": [
    "#test = delta_suface(['AAPL', 'TSLA'])"
   ]
  },
  {
   "cell_type": "code",
   "execution_count": 4,
   "metadata": {},
   "outputs": [
    {
     "name": "stdout",
     "output_type": "stream",
     "text": [
      "[*********************100%***********************]  3 of 3 completed\n"
     ]
    }
   ],
   "source": [
    "test.get_px()"
   ]
  },
  {
   "cell_type": "code",
   "execution_count": 5,
   "metadata": {},
   "outputs": [],
   "source": [
    "test.poly_chain()"
   ]
  },
  {
   "cell_type": "code",
   "execution_count": 6,
   "metadata": {},
   "outputs": [],
   "source": [
    "test.poly_parse()"
   ]
  },
  {
   "cell_type": "code",
   "execution_count": 7,
   "metadata": {},
   "outputs": [],
   "source": [
    "test.iv_calcs()"
   ]
  },
  {
   "cell_type": "code",
   "execution_count": 8,
   "metadata": {},
   "outputs": [
    {
     "data": {
      "text/html": [
       "<div>\n",
       "<style scoped>\n",
       "    .dataframe tbody tr th:only-of-type {\n",
       "        vertical-align: middle;\n",
       "    }\n",
       "\n",
       "    .dataframe tbody tr th {\n",
       "        vertical-align: top;\n",
       "    }\n",
       "\n",
       "    .dataframe thead th {\n",
       "        text-align: right;\n",
       "    }\n",
       "</style>\n",
       "<table border=\"1\" class=\"dataframe\">\n",
       "  <thead>\n",
       "    <tr style=\"text-align: right;\">\n",
       "      <th></th>\n",
       "      <th>v</th>\n",
       "      <th>vw</th>\n",
       "      <th>o</th>\n",
       "      <th>c</th>\n",
       "      <th>h</th>\n",
       "      <th>l</th>\n",
       "      <th>t</th>\n",
       "      <th>n</th>\n",
       "      <th>ticker</th>\n",
       "      <th>date</th>\n",
       "    </tr>\n",
       "  </thead>\n",
       "  <tbody>\n",
       "    <tr>\n",
       "      <th>0</th>\n",
       "      <td>1.0</td>\n",
       "      <td>177.2500</td>\n",
       "      <td>177.25</td>\n",
       "      <td>177.25</td>\n",
       "      <td>177.25</td>\n",
       "      <td>177.25</td>\n",
       "      <td>1.684901e+12</td>\n",
       "      <td>1.0</td>\n",
       "      <td>O:TSLA231215C00005000</td>\n",
       "      <td>2023-05-24</td>\n",
       "    </tr>\n",
       "    <tr>\n",
       "      <th>1</th>\n",
       "      <td>1.0</td>\n",
       "      <td>193.0500</td>\n",
       "      <td>193.05</td>\n",
       "      <td>193.05</td>\n",
       "      <td>193.05</td>\n",
       "      <td>193.05</td>\n",
       "      <td>1.685074e+12</td>\n",
       "      <td>1.0</td>\n",
       "      <td>O:TSLA231215C00005000</td>\n",
       "      <td>2023-05-26</td>\n",
       "    </tr>\n",
       "    <tr>\n",
       "      <th>2</th>\n",
       "      <td>1.0</td>\n",
       "      <td>193.5000</td>\n",
       "      <td>193.50</td>\n",
       "      <td>193.50</td>\n",
       "      <td>193.50</td>\n",
       "      <td>193.50</td>\n",
       "      <td>1.685419e+12</td>\n",
       "      <td>1.0</td>\n",
       "      <td>O:TSLA231215C00005000</td>\n",
       "      <td>2023-05-30</td>\n",
       "    </tr>\n",
       "    <tr>\n",
       "      <th>3</th>\n",
       "      <td>1.0</td>\n",
       "      <td>160.0500</td>\n",
       "      <td>160.05</td>\n",
       "      <td>160.05</td>\n",
       "      <td>160.05</td>\n",
       "      <td>160.05</td>\n",
       "      <td>1.684296e+12</td>\n",
       "      <td>1.0</td>\n",
       "      <td>O:TSLA231215C00010000</td>\n",
       "      <td>2023-05-17</td>\n",
       "    </tr>\n",
       "    <tr>\n",
       "      <th>4</th>\n",
       "      <td>1.0</td>\n",
       "      <td>183.7200</td>\n",
       "      <td>183.72</td>\n",
       "      <td>183.72</td>\n",
       "      <td>183.72</td>\n",
       "      <td>183.72</td>\n",
       "      <td>1.685074e+12</td>\n",
       "      <td>1.0</td>\n",
       "      <td>O:TSLA231215C00010000</td>\n",
       "      <td>2023-05-26</td>\n",
       "    </tr>\n",
       "    <tr>\n",
       "      <th>...</th>\n",
       "      <td>...</td>\n",
       "      <td>...</td>\n",
       "      <td>...</td>\n",
       "      <td>...</td>\n",
       "      <td>...</td>\n",
       "      <td>...</td>\n",
       "      <td>...</td>\n",
       "      <td>...</td>\n",
       "      <td>...</td>\n",
       "      <td>...</td>\n",
       "    </tr>\n",
       "    <tr>\n",
       "      <th>2187</th>\n",
       "      <td>1.0</td>\n",
       "      <td>0.6000</td>\n",
       "      <td>0.60</td>\n",
       "      <td>0.60</td>\n",
       "      <td>0.60</td>\n",
       "      <td>0.60</td>\n",
       "      <td>1.686024e+12</td>\n",
       "      <td>1.0</td>\n",
       "      <td>O:MSFT231215C00490000</td>\n",
       "      <td>2023-06-06</td>\n",
       "    </tr>\n",
       "    <tr>\n",
       "      <th>2188</th>\n",
       "      <td>1.0</td>\n",
       "      <td>0.4500</td>\n",
       "      <td>0.45</td>\n",
       "      <td>0.45</td>\n",
       "      <td>0.45</td>\n",
       "      <td>0.45</td>\n",
       "      <td>1.686283e+12</td>\n",
       "      <td>1.0</td>\n",
       "      <td>O:MSFT231215C00490000</td>\n",
       "      <td>2023-06-09</td>\n",
       "    </tr>\n",
       "    <tr>\n",
       "      <th>2189</th>\n",
       "      <td>10.0</td>\n",
       "      <td>0.3900</td>\n",
       "      <td>0.39</td>\n",
       "      <td>0.39</td>\n",
       "      <td>0.39</td>\n",
       "      <td>0.39</td>\n",
       "      <td>1.686110e+12</td>\n",
       "      <td>1.0</td>\n",
       "      <td>O:MSFT231215C00500000</td>\n",
       "      <td>2023-06-07</td>\n",
       "    </tr>\n",
       "    <tr>\n",
       "      <th>2190</th>\n",
       "      <td>1.0</td>\n",
       "      <td>0.4000</td>\n",
       "      <td>0.40</td>\n",
       "      <td>0.40</td>\n",
       "      <td>0.40</td>\n",
       "      <td>0.40</td>\n",
       "      <td>1.686283e+12</td>\n",
       "      <td>1.0</td>\n",
       "      <td>O:MSFT231215C00500000</td>\n",
       "      <td>2023-06-09</td>\n",
       "    </tr>\n",
       "    <tr>\n",
       "      <th>2191</th>\n",
       "      <td>26.0</td>\n",
       "      <td>0.3935</td>\n",
       "      <td>0.38</td>\n",
       "      <td>0.41</td>\n",
       "      <td>0.41</td>\n",
       "      <td>0.38</td>\n",
       "      <td>1.686542e+12</td>\n",
       "      <td>8.0</td>\n",
       "      <td>O:MSFT231215C00500000</td>\n",
       "      <td>2023-06-12</td>\n",
       "    </tr>\n",
       "  </tbody>\n",
       "</table>\n",
       "<p>2192 rows × 10 columns</p>\n",
       "</div>"
      ],
      "text/plain": [
       "         v        vw       o       c       h       l             t    n  \\\n",
       "0      1.0  177.2500  177.25  177.25  177.25  177.25  1.684901e+12  1.0   \n",
       "1      1.0  193.0500  193.05  193.05  193.05  193.05  1.685074e+12  1.0   \n",
       "2      1.0  193.5000  193.50  193.50  193.50  193.50  1.685419e+12  1.0   \n",
       "3      1.0  160.0500  160.05  160.05  160.05  160.05  1.684296e+12  1.0   \n",
       "4      1.0  183.7200  183.72  183.72  183.72  183.72  1.685074e+12  1.0   \n",
       "...    ...       ...     ...     ...     ...     ...           ...  ...   \n",
       "2187   1.0    0.6000    0.60    0.60    0.60    0.60  1.686024e+12  1.0   \n",
       "2188   1.0    0.4500    0.45    0.45    0.45    0.45  1.686283e+12  1.0   \n",
       "2189  10.0    0.3900    0.39    0.39    0.39    0.39  1.686110e+12  1.0   \n",
       "2190   1.0    0.4000    0.40    0.40    0.40    0.40  1.686283e+12  1.0   \n",
       "2191  26.0    0.3935    0.38    0.41    0.41    0.38  1.686542e+12  8.0   \n",
       "\n",
       "                     ticker        date  \n",
       "0     O:TSLA231215C00005000  2023-05-24  \n",
       "1     O:TSLA231215C00005000  2023-05-26  \n",
       "2     O:TSLA231215C00005000  2023-05-30  \n",
       "3     O:TSLA231215C00010000  2023-05-17  \n",
       "4     O:TSLA231215C00010000  2023-05-26  \n",
       "...                     ...         ...  \n",
       "2187  O:MSFT231215C00490000  2023-06-06  \n",
       "2188  O:MSFT231215C00490000  2023-06-09  \n",
       "2189  O:MSFT231215C00500000  2023-06-07  \n",
       "2190  O:MSFT231215C00500000  2023-06-09  \n",
       "2191  O:MSFT231215C00500000  2023-06-12  \n",
       "\n",
       "[2192 rows x 10 columns]"
      ]
     },
     "execution_count": 8,
     "metadata": {},
     "output_type": "execute_result"
    }
   ],
   "source": [
    "test.hist_poly_thread(thread_count=50)"
   ]
  },
  {
   "cell_type": "code",
   "execution_count": 9,
   "metadata": {},
   "outputs": [],
   "source": [
    "test.delta_curve(sf = 0.05)"
   ]
  },
  {
   "cell_type": "code",
   "execution_count": 10,
   "metadata": {},
   "outputs": [
    {
     "data": {
      "text/html": [
       "<div>\n",
       "<style scoped>\n",
       "    .dataframe tbody tr th:only-of-type {\n",
       "        vertical-align: middle;\n",
       "    }\n",
       "\n",
       "    .dataframe tbody tr th {\n",
       "        vertical-align: top;\n",
       "    }\n",
       "\n",
       "    .dataframe thead th {\n",
       "        text-align: right;\n",
       "    }\n",
       "</style>\n",
       "<table border=\"1\" class=\"dataframe\">\n",
       "  <thead>\n",
       "    <tr style=\"text-align: right;\">\n",
       "      <th></th>\n",
       "      <th>TSLA</th>\n",
       "      <th>AAPL</th>\n",
       "      <th>MSFT</th>\n",
       "    </tr>\n",
       "  </thead>\n",
       "  <tbody>\n",
       "    <tr>\n",
       "      <th>0.50</th>\n",
       "      <td>0.950805</td>\n",
       "      <td>0.966928</td>\n",
       "      <td>1.000000</td>\n",
       "    </tr>\n",
       "    <tr>\n",
       "      <th>0.51</th>\n",
       "      <td>0.946268</td>\n",
       "      <td>0.966928</td>\n",
       "      <td>1.000000</td>\n",
       "    </tr>\n",
       "    <tr>\n",
       "      <th>0.52</th>\n",
       "      <td>0.941581</td>\n",
       "      <td>0.966928</td>\n",
       "      <td>0.994072</td>\n",
       "    </tr>\n",
       "    <tr>\n",
       "      <th>0.53</th>\n",
       "      <td>0.936745</td>\n",
       "      <td>0.966928</td>\n",
       "      <td>0.987342</td>\n",
       "    </tr>\n",
       "    <tr>\n",
       "      <th>0.54</th>\n",
       "      <td>0.931765</td>\n",
       "      <td>0.966928</td>\n",
       "      <td>0.981025</td>\n",
       "    </tr>\n",
       "    <tr>\n",
       "      <th>...</th>\n",
       "      <td>...</td>\n",
       "      <td>...</td>\n",
       "      <td>...</td>\n",
       "    </tr>\n",
       "    <tr>\n",
       "      <th>1.46</th>\n",
       "      <td>0.236406</td>\n",
       "      <td>0.000000</td>\n",
       "      <td>0.012301</td>\n",
       "    </tr>\n",
       "    <tr>\n",
       "      <th>1.47</th>\n",
       "      <td>0.230444</td>\n",
       "      <td>0.000000</td>\n",
       "      <td>0.012301</td>\n",
       "    </tr>\n",
       "    <tr>\n",
       "      <th>1.48</th>\n",
       "      <td>0.224606</td>\n",
       "      <td>0.000000</td>\n",
       "      <td>0.012301</td>\n",
       "    </tr>\n",
       "    <tr>\n",
       "      <th>1.49</th>\n",
       "      <td>0.218895</td>\n",
       "      <td>0.000000</td>\n",
       "      <td>0.012301</td>\n",
       "    </tr>\n",
       "    <tr>\n",
       "      <th>1.50</th>\n",
       "      <td>0.213313</td>\n",
       "      <td>0.000000</td>\n",
       "      <td>0.012301</td>\n",
       "    </tr>\n",
       "  </tbody>\n",
       "</table>\n",
       "<p>101 rows × 3 columns</p>\n",
       "</div>"
      ],
      "text/plain": [
       "          TSLA      AAPL      MSFT\n",
       "0.50  0.950805  0.966928  1.000000\n",
       "0.51  0.946268  0.966928  1.000000\n",
       "0.52  0.941581  0.966928  0.994072\n",
       "0.53  0.936745  0.966928  0.987342\n",
       "0.54  0.931765  0.966928  0.981025\n",
       "...        ...       ...       ...\n",
       "1.46  0.236406  0.000000  0.012301\n",
       "1.47  0.230444  0.000000  0.012301\n",
       "1.48  0.224606  0.000000  0.012301\n",
       "1.49  0.218895  0.000000  0.012301\n",
       "1.50  0.213313  0.000000  0.012301\n",
       "\n",
       "[101 rows x 3 columns]"
      ]
     },
     "execution_count": 10,
     "metadata": {},
     "output_type": "execute_result"
    }
   ],
   "source": [
    "test.curve_df"
   ]
  },
  {
   "attachments": {},
   "cell_type": "markdown",
   "metadata": {},
   "source": [
    "When we reach max or min for first time outwith 50d, maybe we stick to 0/1 from there"
   ]
  },
  {
   "cell_type": "code",
   "execution_count": 12,
   "metadata": {},
   "outputs": [],
   "source": [
    "vol_df = test.delta_df[test.delta_df['ticker'] == 'MSFT'].sort_values('strike')"
   ]
  },
  {
   "cell_type": "code",
   "execution_count": 13,
   "metadata": {},
   "outputs": [],
   "source": [
    "x = test.curve_df.index\n",
    "y = test.curve_df['MSFT']\n",
    "\n",
    "x_init = vol_df['k_norm']\n",
    "y_init = vol_df['pv_delta']\n",
    "\n",
    "x_new = np.arange(0.5,1.51,0.01)"
   ]
  },
  {
   "cell_type": "code",
   "execution_count": 14,
   "metadata": {},
   "outputs": [],
   "source": [
    "from scipy import interpolate"
   ]
  },
  {
   "cell_type": "code",
   "execution_count": 15,
   "metadata": {},
   "outputs": [],
   "source": [
    "spl = interpolate.UnivariateSpline(x, y)\n",
    "spl.set_smoothing_factor(0.2)"
   ]
  },
  {
   "cell_type": "code",
   "execution_count": 16,
   "metadata": {},
   "outputs": [],
   "source": [
    "y_new = pd.DataFrame(spl(x_new)).cummin()[::-1].cummax()[::-1]"
   ]
  },
  {
   "cell_type": "code",
   "execution_count": 17,
   "metadata": {},
   "outputs": [],
   "source": [
    "import matplotlib.pyplot as plt"
   ]
  },
  {
   "cell_type": "code",
   "execution_count": 18,
   "metadata": {},
   "outputs": [
    {
     "data": {
      "text/plain": [
       "[<matplotlib.lines.Line2D at 0x14042aee0>,\n",
       " <matplotlib.lines.Line2D at 0x14042aeb0>,\n",
       " <matplotlib.lines.Line2D at 0x14043a160>]"
      ]
     },
     "execution_count": 18,
     "metadata": {},
     "output_type": "execute_result"
    },
    {
     "data": {
      "image/png": "[encoded data removed]",
      "text/plain": [
       "<Figure size 640x480 with 1 Axes>"
      ]
     },
     "metadata": {},
     "output_type": "display_data"
    }
   ],
   "source": [
    "plt.plot(x, y, 'x', x_new, y_new, '-', x_init, y_init, '--')"
   ]
  },
  {
   "cell_type": "code",
   "execution_count": null,
   "metadata": {},
   "outputs": [],
   "source": []
  }
 ],
 "metadata": {
  "kernelspec": {
   "display_name": "options",
   "language": "python",
   "name": "python3"
  },
  "language_info": {
   "codemirror_mode": {
    "name": "ipython",
    "version": 3
   },
   "file_extension": ".py",
   "mimetype": "text/x-python",
   "name": "python",
   "nbconvert_exporter": "python",
   "pygments_lexer": "ipython3",
   "version": "3.9.13"
  },
  "orig_nbformat": 4,
  "vscode": {
   "interpreter": {
    "hash": "0250ec5d23cbb2fe25831f39db261d937bc48e46d302e777121b762c79c3015f"
   }
  }
 },
 "nbformat": 4,
 "nbformat_minor": 2
}
