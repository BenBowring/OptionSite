{
 "cells": [
  {
   "cell_type": "code",
   "execution_count": 1,
   "metadata": {},
   "outputs": [],
   "source": [
    "from delta_surface import *"
   ]
  },
  {
   "cell_type": "code",
   "execution_count": 2,
   "metadata": {},
   "outputs": [],
   "source": [
    "#test = delta_suface(['SPY', 'XLF', 'XLC', 'XLY', 'XLV', 'XLK'])"
   ]
  },
  {
   "cell_type": "code",
   "execution_count": 3,
   "metadata": {},
   "outputs": [],
   "source": [
    "test = delta_suface(['AAPL', 'TSLA'])"
   ]
  },
  {
   "cell_type": "code",
   "execution_count": 4,
   "metadata": {},
   "outputs": [
    {
     "name": "stdout",
     "output_type": "stream",
     "text": [
      "[*********************100%***********************]  2 of 2 completed\n"
     ]
    }
   ],
   "source": [
    "test.get_px()"
   ]
  },
  {
   "cell_type": "code",
   "execution_count": 5,
   "metadata": {},
   "outputs": [],
   "source": [
    "test.poly_chain()"
   ]
  },
  {
   "cell_type": "code",
   "execution_count": 6,
   "metadata": {},
   "outputs": [],
   "source": [
    "test.poly_parse()"
   ]
  },
  {
   "cell_type": "code",
   "execution_count": 7,
   "metadata": {},
   "outputs": [],
   "source": [
    "test.iv_calcs()"
   ]
  },
  {
   "cell_type": "code",
   "execution_count": 8,
   "metadata": {},
   "outputs": [
    {
     "data": {
      "text/html": [
       "<div>\n",
       "<style scoped>\n",
       "    .dataframe tbody tr th:only-of-type {\n",
       "        vertical-align: middle;\n",
       "    }\n",
       "\n",
       "    .dataframe tbody tr th {\n",
       "        vertical-align: top;\n",
       "    }\n",
       "\n",
       "    .dataframe thead th {\n",
       "        text-align: right;\n",
       "    }\n",
       "</style>\n",
       "<table border=\"1\" class=\"dataframe\">\n",
       "  <thead>\n",
       "    <tr style=\"text-align: right;\">\n",
       "      <th></th>\n",
       "      <th>expiry</th>\n",
       "      <th>strike</th>\n",
       "      <th>callput</th>\n",
       "      <th>style</th>\n",
       "      <th>spot</th>\n",
       "      <th>volume</th>\n",
       "      <th>update</th>\n",
       "      <th>open_interest</th>\n",
       "      <th>px</th>\n",
       "      <th>ticker</th>\n",
       "      <th>k_norm</th>\n",
       "      <th>t_exp</th>\n",
       "      <th>t_exp_update</th>\n",
       "      <th>px_update</th>\n",
       "      <th>pv_vol</th>\n",
       "      <th>pv_delta</th>\n",
       "    </tr>\n",
       "  </thead>\n",
       "  <tbody>\n",
       "    <tr>\n",
       "      <th>0</th>\n",
       "      <td>2023-06-16</td>\n",
       "      <td>60.00</td>\n",
       "      <td>call</td>\n",
       "      <td>american</td>\n",
       "      <td>121.50</td>\n",
       "      <td>3</td>\n",
       "      <td>2023-06-09</td>\n",
       "      <td>21930</td>\n",
       "      <td>181.429993</td>\n",
       "      <td>AAPL</td>\n",
       "      <td>0.330706</td>\n",
       "      <td>5</td>\n",
       "      <td>5</td>\n",
       "      <td>181.429993</td>\n",
       "      <td>3.357542</td>\n",
       "      <td>0.998711</td>\n",
       "    </tr>\n",
       "    <tr>\n",
       "      <th>1</th>\n",
       "      <td>2023-06-16</td>\n",
       "      <td>65.00</td>\n",
       "      <td>call</td>\n",
       "      <td>american</td>\n",
       "      <td>116.10</td>\n",
       "      <td>5</td>\n",
       "      <td>2023-06-09</td>\n",
       "      <td>2947</td>\n",
       "      <td>181.429993</td>\n",
       "      <td>AAPL</td>\n",
       "      <td>0.358265</td>\n",
       "      <td>5</td>\n",
       "      <td>5</td>\n",
       "      <td>181.429993</td>\n",
       "      <td>3.357542</td>\n",
       "      <td>0.997526</td>\n",
       "    </tr>\n",
       "    <tr>\n",
       "      <th>2</th>\n",
       "      <td>2023-06-16</td>\n",
       "      <td>70.00</td>\n",
       "      <td>call</td>\n",
       "      <td>american</td>\n",
       "      <td>108.49</td>\n",
       "      <td>1</td>\n",
       "      <td>2023-05-30</td>\n",
       "      <td>2790</td>\n",
       "      <td>181.429993</td>\n",
       "      <td>AAPL</td>\n",
       "      <td>0.385824</td>\n",
       "      <td>5</td>\n",
       "      <td>13</td>\n",
       "      <td>177.300003</td>\n",
       "      <td>2.892474</td>\n",
       "      <td>0.976074</td>\n",
       "    </tr>\n",
       "    <tr>\n",
       "      <th>3</th>\n",
       "      <td>2023-06-16</td>\n",
       "      <td>75.00</td>\n",
       "      <td>call</td>\n",
       "      <td>american</td>\n",
       "      <td>106.59</td>\n",
       "      <td>1</td>\n",
       "      <td>2023-06-09</td>\n",
       "      <td>1991</td>\n",
       "      <td>181.429993</td>\n",
       "      <td>AAPL</td>\n",
       "      <td>0.413383</td>\n",
       "      <td>5</td>\n",
       "      <td>5</td>\n",
       "      <td>181.429993</td>\n",
       "      <td>3.124934</td>\n",
       "      <td>0.995339</td>\n",
       "    </tr>\n",
       "    <tr>\n",
       "      <th>4</th>\n",
       "      <td>2023-06-16</td>\n",
       "      <td>80.00</td>\n",
       "      <td>call</td>\n",
       "      <td>american</td>\n",
       "      <td>97.50</td>\n",
       "      <td>1</td>\n",
       "      <td>2023-06-07</td>\n",
       "      <td>1140</td>\n",
       "      <td>181.429993</td>\n",
       "      <td>AAPL</td>\n",
       "      <td>0.440941</td>\n",
       "      <td>5</td>\n",
       "      <td>7</td>\n",
       "      <td>177.820007</td>\n",
       "      <td>3.124934</td>\n",
       "      <td>0.980506</td>\n",
       "    </tr>\n",
       "    <tr>\n",
       "      <th>...</th>\n",
       "      <td>...</td>\n",
       "      <td>...</td>\n",
       "      <td>...</td>\n",
       "      <td>...</td>\n",
       "      <td>...</td>\n",
       "      <td>...</td>\n",
       "      <td>...</td>\n",
       "      <td>...</td>\n",
       "      <td>...</td>\n",
       "      <td>...</td>\n",
       "      <td>...</td>\n",
       "      <td>...</td>\n",
       "      <td>...</td>\n",
       "      <td>...</td>\n",
       "      <td>...</td>\n",
       "      <td>...</td>\n",
       "    </tr>\n",
       "    <tr>\n",
       "      <th>230</th>\n",
       "      <td>2023-06-16</td>\n",
       "      <td>791.67</td>\n",
       "      <td>call</td>\n",
       "      <td>american</td>\n",
       "      <td>0.01</td>\n",
       "      <td>248</td>\n",
       "      <td>2023-05-10</td>\n",
       "      <td>3269</td>\n",
       "      <td>234.860001</td>\n",
       "      <td>TSLA</td>\n",
       "      <td>3.370817</td>\n",
       "      <td>5</td>\n",
       "      <td>27</td>\n",
       "      <td>168.539993</td>\n",
       "      <td>1.630356</td>\n",
       "      <td>0.000560</td>\n",
       "    </tr>\n",
       "    <tr>\n",
       "      <th>231</th>\n",
       "      <td>2023-06-16</td>\n",
       "      <td>800.00</td>\n",
       "      <td>call</td>\n",
       "      <td>american</td>\n",
       "      <td>0.01</td>\n",
       "      <td>9</td>\n",
       "      <td>2023-06-08</td>\n",
       "      <td>14461</td>\n",
       "      <td>234.860001</td>\n",
       "      <td>TSLA</td>\n",
       "      <td>3.406285</td>\n",
       "      <td>5</td>\n",
       "      <td>6</td>\n",
       "      <td>234.860001</td>\n",
       "      <td>2.754231</td>\n",
       "      <td>0.000498</td>\n",
       "    </tr>\n",
       "    <tr>\n",
       "      <th>232</th>\n",
       "      <td>2023-06-16</td>\n",
       "      <td>808.33</td>\n",
       "      <td>call</td>\n",
       "      <td>american</td>\n",
       "      <td>0.01</td>\n",
       "      <td>1</td>\n",
       "      <td>2023-05-30</td>\n",
       "      <td>2077</td>\n",
       "      <td>234.860001</td>\n",
       "      <td>TSLA</td>\n",
       "      <td>3.441753</td>\n",
       "      <td>5</td>\n",
       "      <td>13</td>\n",
       "      <td>201.160004</td>\n",
       "      <td>2.115035</td>\n",
       "      <td>0.000518</td>\n",
       "    </tr>\n",
       "    <tr>\n",
       "      <th>233</th>\n",
       "      <td>2023-06-16</td>\n",
       "      <td>816.67</td>\n",
       "      <td>call</td>\n",
       "      <td>american</td>\n",
       "      <td>0.01</td>\n",
       "      <td>1</td>\n",
       "      <td>2023-05-26</td>\n",
       "      <td>3694</td>\n",
       "      <td>234.860001</td>\n",
       "      <td>TSLA</td>\n",
       "      <td>3.477263</td>\n",
       "      <td>5</td>\n",
       "      <td>15</td>\n",
       "      <td>193.169998</td>\n",
       "      <td>2.037957</td>\n",
       "      <td>0.000523</td>\n",
       "    </tr>\n",
       "    <tr>\n",
       "      <th>234</th>\n",
       "      <td>2023-06-16</td>\n",
       "      <td>825.00</td>\n",
       "      <td>call</td>\n",
       "      <td>american</td>\n",
       "      <td>0.01</td>\n",
       "      <td>1</td>\n",
       "      <td>2023-06-09</td>\n",
       "      <td>53782</td>\n",
       "      <td>234.860001</td>\n",
       "      <td>TSLA</td>\n",
       "      <td>3.512731</td>\n",
       "      <td>5</td>\n",
       "      <td>5</td>\n",
       "      <td>234.860001</td>\n",
       "      <td>3.084914</td>\n",
       "      <td>0.000488</td>\n",
       "    </tr>\n",
       "  </tbody>\n",
       "</table>\n",
       "<p>235 rows × 16 columns</p>\n",
       "</div>"
      ],
      "text/plain": [
       "         expiry  strike callput     style    spot  volume      update  \\\n",
       "0    2023-06-16   60.00    call  american  121.50       3  2023-06-09   \n",
       "1    2023-06-16   65.00    call  american  116.10       5  2023-06-09   \n",
       "2    2023-06-16   70.00    call  american  108.49       1  2023-05-30   \n",
       "3    2023-06-16   75.00    call  american  106.59       1  2023-06-09   \n",
       "4    2023-06-16   80.00    call  american   97.50       1  2023-06-07   \n",
       "..          ...     ...     ...       ...     ...     ...         ...   \n",
       "230  2023-06-16  791.67    call  american    0.01     248  2023-05-10   \n",
       "231  2023-06-16  800.00    call  american    0.01       9  2023-06-08   \n",
       "232  2023-06-16  808.33    call  american    0.01       1  2023-05-30   \n",
       "233  2023-06-16  816.67    call  american    0.01       1  2023-05-26   \n",
       "234  2023-06-16  825.00    call  american    0.01       1  2023-06-09   \n",
       "\n",
       "     open_interest          px ticker    k_norm  t_exp  t_exp_update  \\\n",
       "0            21930  181.429993   AAPL  0.330706      5             5   \n",
       "1             2947  181.429993   AAPL  0.358265      5             5   \n",
       "2             2790  181.429993   AAPL  0.385824      5            13   \n",
       "3             1991  181.429993   AAPL  0.413383      5             5   \n",
       "4             1140  181.429993   AAPL  0.440941      5             7   \n",
       "..             ...         ...    ...       ...    ...           ...   \n",
       "230           3269  234.860001   TSLA  3.370817      5            27   \n",
       "231          14461  234.860001   TSLA  3.406285      5             6   \n",
       "232           2077  234.860001   TSLA  3.441753      5            13   \n",
       "233           3694  234.860001   TSLA  3.477263      5            15   \n",
       "234          53782  234.860001   TSLA  3.512731      5             5   \n",
       "\n",
       "      px_update    pv_vol  pv_delta  \n",
       "0    181.429993  3.357542  0.998711  \n",
       "1    181.429993  3.357542  0.997526  \n",
       "2    177.300003  2.892474  0.976074  \n",
       "3    181.429993  3.124934  0.995339  \n",
       "4    177.820007  3.124934  0.980506  \n",
       "..          ...       ...       ...  \n",
       "230  168.539993  1.630356  0.000560  \n",
       "231  234.860001  2.754231  0.000498  \n",
       "232  201.160004  2.115035  0.000518  \n",
       "233  193.169998  2.037957  0.000523  \n",
       "234  234.860001  3.084914  0.000488  \n",
       "\n",
       "[235 rows x 16 columns]"
      ]
     },
     "execution_count": 8,
     "metadata": {},
     "output_type": "execute_result"
    }
   ],
   "source": [
    "test.delta_df"
   ]
  },
  {
   "cell_type": "code",
   "execution_count": 9,
   "metadata": {},
   "outputs": [],
   "source": [
    "var = test.delta_df"
   ]
  },
  {
   "cell_type": "code",
   "execution_count": 16,
   "metadata": {},
   "outputs": [],
   "source": [
    "test.delta_curve(sf = 0.01)"
   ]
  },
  {
   "cell_type": "code",
   "execution_count": null,
   "metadata": {},
   "outputs": [
    {
     "data": {
      "text/html": [
       "<div>\n",
       "<style scoped>\n",
       "    .dataframe tbody tr th:only-of-type {\n",
       "        vertical-align: middle;\n",
       "    }\n",
       "\n",
       "    .dataframe tbody tr th {\n",
       "        vertical-align: top;\n",
       "    }\n",
       "\n",
       "    .dataframe thead th {\n",
       "        text-align: right;\n",
       "    }\n",
       "</style>\n",
       "<table border=\"1\" class=\"dataframe\">\n",
       "  <thead>\n",
       "    <tr style=\"text-align: right;\">\n",
       "      <th></th>\n",
       "      <th>AAPL</th>\n",
       "      <th>TSLA</th>\n",
       "    </tr>\n",
       "  </thead>\n",
       "  <tbody>\n",
       "    <tr>\n",
       "      <th>0.50</th>\n",
       "      <td>0.977805</td>\n",
       "      <td>0.905809</td>\n",
       "    </tr>\n",
       "    <tr>\n",
       "      <th>0.51</th>\n",
       "      <td>0.978607</td>\n",
       "      <td>0.903090</td>\n",
       "    </tr>\n",
       "    <tr>\n",
       "      <th>0.52</th>\n",
       "      <td>0.979516</td>\n",
       "      <td>0.900374</td>\n",
       "    </tr>\n",
       "    <tr>\n",
       "      <th>0.53</th>\n",
       "      <td>0.980509</td>\n",
       "      <td>0.897665</td>\n",
       "    </tr>\n",
       "    <tr>\n",
       "      <th>0.54</th>\n",
       "      <td>0.981564</td>\n",
       "      <td>0.894964</td>\n",
       "    </tr>\n",
       "    <tr>\n",
       "      <th>...</th>\n",
       "      <td>...</td>\n",
       "      <td>...</td>\n",
       "    </tr>\n",
       "    <tr>\n",
       "      <th>1.46</th>\n",
       "      <td>-0.007068</td>\n",
       "      <td>-0.011508</td>\n",
       "    </tr>\n",
       "    <tr>\n",
       "      <th>1.47</th>\n",
       "      <td>-0.009034</td>\n",
       "      <td>-0.011401</td>\n",
       "    </tr>\n",
       "    <tr>\n",
       "      <th>1.48</th>\n",
       "      <td>-0.010826</td>\n",
       "      <td>-0.011131</td>\n",
       "    </tr>\n",
       "    <tr>\n",
       "      <th>1.49</th>\n",
       "      <td>-0.012413</td>\n",
       "      <td>-0.010719</td>\n",
       "    </tr>\n",
       "    <tr>\n",
       "      <th>1.50</th>\n",
       "      <td>-0.013762</td>\n",
       "      <td>-0.010185</td>\n",
       "    </tr>\n",
       "  </tbody>\n",
       "</table>\n",
       "<p>101 rows × 2 columns</p>\n",
       "</div>"
      ],
      "text/plain": [
       "          AAPL      TSLA\n",
       "0.50  0.977805  0.905809\n",
       "0.51  0.978607  0.903090\n",
       "0.52  0.979516  0.900374\n",
       "0.53  0.980509  0.897665\n",
       "0.54  0.981564  0.894964\n",
       "...        ...       ...\n",
       "1.46 -0.007068 -0.011508\n",
       "1.47 -0.009034 -0.011401\n",
       "1.48 -0.010826 -0.011131\n",
       "1.49 -0.012413 -0.010719\n",
       "1.50 -0.013762 -0.010185\n",
       "\n",
       "[101 rows x 2 columns]"
      ]
     },
     "execution_count": 14,
     "metadata": {},
     "output_type": "execute_result"
    }
   ],
   "source": [
    "test.curve_df"
   ]
  },
  {
   "cell_type": "code",
   "execution_count": null,
   "metadata": {},
   "outputs": [
    {
     "data": {
      "text/plain": [
       "<AxesSubplot: >"
      ]
     },
     "execution_count": 15,
     "metadata": {},
     "output_type": "execute_result"
    },
    {
     "data": {
      "image/png": "[encoded data removed]",
      "text/plain": [
       "<Figure size 640x480 with 1 Axes>"
      ]
     },
     "metadata": {},
     "output_type": "display_data"
    }
   ],
   "source": [
    "test.curve_df.plot()"
   ]
  },
  {
   "cell_type": "code",
   "execution_count": null,
   "metadata": {},
   "outputs": [],
   "source": [
    "x = test.curve_df.index\n",
    "y = test.curve_df['AAPL']\n",
    "\n",
    "x_new = np.arange(0.5,1.501,0.01)"
   ]
  },
  {
   "cell_type": "code",
   "execution_count": null,
   "metadata": {},
   "outputs": [],
   "source": [
    "from scipy import interpolate"
   ]
  },
  {
   "cell_type": "code",
   "execution_count": null,
   "metadata": {},
   "outputs": [],
   "source": [
    "spl = interpolate.UnivariateSpline(x, y)\n",
    "spl.set_smoothing_factor(0.05)"
   ]
  },
  {
   "cell_type": "code",
   "execution_count": null,
   "metadata": {},
   "outputs": [],
   "source": [
    "y_new = spl(x_new)"
   ]
  },
  {
   "cell_type": "code",
   "execution_count": null,
   "metadata": {},
   "outputs": [],
   "source": [
    "import matplotlib.pyplot as plt"
   ]
  },
  {
   "cell_type": "code",
   "execution_count": null,
   "metadata": {},
   "outputs": [],
   "source": [
    "plt.plot(x, y, 'x', x_new, y_new)"
   ]
  },
  {
   "cell_type": "code",
   "execution_count": null,
   "metadata": {},
   "outputs": [],
   "source": [
    "print(1)"
   ]
  },
  {
   "cell_type": "code",
   "execution_count": null,
   "metadata": {},
   "outputs": [],
   "source": []
  }
 ],
 "metadata": {
  "kernelspec": {
   "display_name": "options",
   "language": "python",
   "name": "python3"
  },
  "language_info": {
   "codemirror_mode": {
    "name": "ipython",
    "version": 3
   },
   "file_extension": ".py",
   "mimetype": "text/x-python",
   "name": "python",
   "nbconvert_exporter": "python",
   "pygments_lexer": "ipython3",
   "version": "3.9.13"
  },
  "orig_nbformat": 4,
  "vscode": {
   "interpreter": {
    "hash": "0250ec5d23cbb2fe25831f39db261d937bc48e46d302e777121b762c79c3015f"
   }
  }
 },
 "nbformat": 4,
 "nbformat_minor": 2
}
