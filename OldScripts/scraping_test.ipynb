{
 "cells": [
  {
   "cell_type": "code",
   "execution_count": 2,
   "metadata": {},
   "outputs": [],
   "source": [
    "import pandas as pd\n",
    "from bs4 import BeautifulSoup\n",
    "import requests\n",
    "import yfinance as yf\n",
    "import datetime as dt\n",
    "import numpy as np"
   ]
  },
  {
   "cell_type": "code",
   "execution_count": null,
   "metadata": {},
   "outputs": [],
   "source": [
    "gDaysInYear = 365.0  # .242\n",
    "gSmall = 1e-12\n",
    "gNotebookMode = False\n",
    "\n",
    "INVROOT2PI = 0.3989422804014327"
   ]
  },
  {
   "cell_type": "code",
   "execution_count": null,
   "metadata": {},
   "outputs": [],
   "source": [
    "def N(x):\n",
    "    \"\"\" Fast Normal CDF function based on Hull OFAODS  4th Edition Page 252.\n",
    "    This function is accurate to 6 decimal places. \"\"\"\n",
    "\n",
    "    a1 = 0.319381530\n",
    "    a2 = -0.356563782\n",
    "    a3 = 1.781477937\n",
    "    a4 = -1.821255978\n",
    "    a5 = 1.330274429\n",
    "    g = 0.2316419\n",
    "\n",
    "    k = 1.0 / (1.0 + g * np.abs(x))\n",
    "    k2 = k * k\n",
    "    k3 = k2 * k\n",
    "    k4 = k3 * k\n",
    "    k5 = k4 * k\n",
    "\n",
    "    if x >= 0.0:\n",
    "        c = (a1 * k + a2 * k2 + a3 * k3 + a4 * k4 + a5 * k5)\n",
    "        phi = 1.0 - c * np.exp(-x*x/2.0) * INVROOT2PI\n",
    "    else:\n",
    "        phi = 1.0 - N(-x)\n",
    "\n",
    "    return phi"
   ]
  },
  {
   "cell_type": "code",
   "execution_count": null,
   "metadata": {},
   "outputs": [],
   "source": [
    "def n_vect(x):\n",
    "    return N(x)"
   ]
  },
  {
   "cell_type": "code",
   "execution_count": null,
   "metadata": {},
   "outputs": [],
   "source": [
    "def bs_delta(s, t, k, r, q, v, p_c):\n",
    "    \"\"\" Price a derivative using Black-Scholes model. \"\"\"\n",
    "\n",
    "    if p_c == 'call':\n",
    "        phi = +1.0\n",
    "    elif p_c == 'put':\n",
    "        phi = -1.0\n",
    "\n",
    "    k = np.maximum(k, gSmall)\n",
    "    t = np.maximum(t, gSmall)\n",
    "    v = np.maximum(v, gSmall)\n",
    "\n",
    "    vsqrtT = v * np.sqrt(t)\n",
    "    ss = s * np.exp(-q*t)\n",
    "    kk = k * np.exp(-r*t)\n",
    "    d1 = np.log(ss/kk) / vsqrtT + vsqrtT / 2.0\n",
    "    delta = phi * np.exp(-q*t) * n_vect(phi * d1)\n",
    "    return delta"
   ]
  },
  {
   "attachments": {},
   "cell_type": "markdown",
   "metadata": {},
   "source": [
    "Desktop Edit"
   ]
  },
  {
   "attachments": {},
   "cell_type": "markdown",
   "metadata": {},
   "source": [
    "Laptop Edit"
   ]
  },
  {
   "cell_type": "code",
   "execution_count": 3,
   "metadata": {},
   "outputs": [],
   "source": [
    "html = requests.get('http://en.wikipedia.org/wiki/List_of_S%26P_500_companies')\n",
    "soup = BeautifulSoup(html.text, 'lxml')\n",
    "table = soup.find('table', {'class': 'wikitable sortable'})"
   ]
  },
  {
   "cell_type": "code",
   "execution_count": 4,
   "metadata": {},
   "outputs": [],
   "source": [
    "stock_data = pd.read_html(str(table))[0]"
   ]
  },
  {
   "cell_type": "code",
   "execution_count": 5,
   "metadata": {},
   "outputs": [],
   "source": [
    "delta_t = pd.tseries.offsets.BusinessDay(n = 21)\n",
    "end_date = dt.date.today()\n",
    "start_date = end_date - delta_t"
   ]
  },
  {
   "cell_type": "code",
   "execution_count": 6,
   "metadata": {},
   "outputs": [],
   "source": [
    "names = [name.replace(\".\", \"-\") for name in stock_data.Symbol]"
   ]
  },
  {
   "cell_type": "code",
   "execution_count": 7,
   "metadata": {},
   "outputs": [],
   "source": [
    "name_query = \" \".join(names)"
   ]
  },
  {
   "cell_type": "code",
   "execution_count": 15,
   "metadata": {},
   "outputs": [
    {
     "name": "stdout",
     "output_type": "stream",
     "text": [
      "[*********************100%***********************]  503 of 503 completed\n"
     ]
    }
   ],
   "source": [
    "px = yf.download(name_query, start=start_date)"
   ]
  },
  {
   "cell_type": "code",
   "execution_count": 16,
   "metadata": {},
   "outputs": [
    {
     "name": "stdout",
     "output_type": "stream",
     "text": [
      "[*********************100%***********************]  503 of 503 completed\n"
     ]
    }
   ],
   "source": [
    "px_check = yf.download(name_query, start=start_date)"
   ]
  },
  {
   "cell_type": "code",
   "execution_count": 18,
   "metadata": {},
   "outputs": [
    {
     "data": {
      "text/plain": [
       "True"
      ]
     },
     "execution_count": 18,
     "metadata": {},
     "output_type": "execute_result"
    }
   ],
   "source": [
    "px_check.equals(px)"
   ]
  },
  {
   "attachments": {},
   "cell_type": "markdown",
   "metadata": {},
   "source": [
    "If we have to run a part of the script multiple times to check if correct, thats fine. Add it as a decorator"
   ]
  },
  {
   "cell_type": "code",
   "execution_count": 19,
   "metadata": {},
   "outputs": [],
   "source": [
    "rets = px.pct_change(1)"
   ]
  },
  {
   "attachments": {},
   "cell_type": "markdown",
   "metadata": {},
   "source": [
    "Download chain, check if empty, Create DF with name and concat as rows"
   ]
  },
  {
   "cell_type": "code",
   "execution_count": 144,
   "metadata": {},
   "outputs": [],
   "source": [
    "from concurrent.futures import ThreadPoolExecutor\n",
    "import itertools"
   ]
  },
  {
   "cell_type": "code",
   "execution_count": 274,
   "metadata": {},
   "outputs": [],
   "source": [
    "tickers = yf.Tickers(name_query)"
   ]
  },
  {
   "cell_type": "code",
   "execution_count": 319,
   "metadata": {},
   "outputs": [],
   "source": [
    "def exp_retrieve(name, thread_loop):\n",
    "    \n",
    "    try:\n",
    "    \n",
    "        tick = tickers.tickers[name]\n",
    "        t_exp = pd.Series(tick.options, dtype=pd.StringDtype())\n",
    "        \n",
    "        t_loop = [x for x in itertools.product([tick], [name], t_exp)]\n",
    "        \n",
    "        thread_loop.extend(t_loop)\n",
    "    \n",
    "    except:\n",
    "        \n",
    "        pass"
   ]
  },
  {
   "cell_type": "code",
   "execution_count": 320,
   "metadata": {},
   "outputs": [],
   "source": [
    "def option_retrieve(tick, name, exp):\n",
    "    \n",
    "    try:\n",
    "    \n",
    "        t_book = tick.option_chain(exp)\n",
    "        t_calls = t_book.calls\n",
    "        t_puts = t_book.puts\n",
    "        \n",
    "        t_calls['callput'] = 'call'\n",
    "        t_puts['callput'] = 'put'\n",
    "        \n",
    "        t_chain = pd.concat([t_calls, t_puts])\n",
    "        \n",
    "        t_chain['expiry'] = exp\n",
    "        t_chain['ticker'] = name\n",
    "        t_chain['stock_px'] = px['Adj Close'][name].iloc[-1]\n",
    "        t_chain['stock_ret'] = rets['Adj Close'][name].iloc[-1]\n",
    "        \n",
    "        t_chain.reset_index(drop=True, inplace=True)\n",
    "        \n",
    "    except:\n",
    "        \n",
    "        t_chain = pd.DataFrame()\n",
    "    \n",
    "    return t_chain"
   ]
  },
  {
   "cell_type": "code",
   "execution_count": 267,
   "metadata": {},
   "outputs": [],
   "source": []
  },
  {
   "cell_type": "code",
   "execution_count": 268,
   "metadata": {},
   "outputs": [],
   "source": [
    "thread_loop = []\n",
    "\n",
    "for name in names[:50]:\n",
    "    \n",
    "    tick = tickers.tickers[name]\n",
    "    t_exp = pd.Series(tick.options, dtype=pd.StringDtype())\n",
    "    \n",
    "    t_loop = [x for x in itertools.product([tick], [name], t_exp)]\n",
    "    \n",
    "    thread_loop.extend(t_loop)"
   ]
  },
  {
   "cell_type": "code",
   "execution_count": 325,
   "metadata": {},
   "outputs": [
    {
     "ename": "KeyboardInterrupt",
     "evalue": "",
     "output_type": "error",
     "traceback": [
      "\u001b[0;31m---------------------------------------------------------------------------\u001b[0m",
      "\u001b[0;31mKeyboardInterrupt\u001b[0m                         Traceback (most recent call last)",
      "Cell \u001b[0;32mIn [325], line 16\u001b[0m\n\u001b[1;32m     13\u001b[0m     futures \u001b[39m=\u001b[39m [executor\u001b[39m.\u001b[39msubmit(exp_retrieve, name, thread_loop) \u001b[39mfor\u001b[39;00m name \u001b[39min\u001b[39;00m names[:name_count]]\n\u001b[1;32m     15\u001b[0m \u001b[39mwith\u001b[39;00m ThreadPoolExecutor(thread_count) \u001b[39mas\u001b[39;00m executor:\n\u001b[0;32m---> 16\u001b[0m     futures \u001b[39m=\u001b[39m [executor\u001b[39m.\u001b[39msubmit(option_retrieve, tick, name, exp) \u001b[39mfor\u001b[39;00m tick, name, exp \u001b[39min\u001b[39;00m thread_loop]\n\u001b[1;32m     18\u001b[0m thread_chain \u001b[39m=\u001b[39m pd\u001b[39m.\u001b[39mconcat([future\u001b[39m.\u001b[39mresult() \u001b[39mfor\u001b[39;00m future \u001b[39min\u001b[39;00m futures])\u001b[39m.\u001b[39msort_values([\u001b[39m'\u001b[39m\u001b[39mticker\u001b[39m\u001b[39m'\u001b[39m, \u001b[39m'\u001b[39m\u001b[39mexpiry\u001b[39m\u001b[39m'\u001b[39m])\u001b[39m.\u001b[39mreset_index(drop \u001b[39m=\u001b[39m \u001b[39mTrue\u001b[39;00m)\n\u001b[1;32m     20\u001b[0m test_frame \u001b[39m=\u001b[39m pd\u001b[39m.\u001b[39mconcat([test_frame, thread_chain\u001b[39m.\u001b[39mgroupby(\u001b[39m'\u001b[39m\u001b[39mticker\u001b[39m\u001b[39m'\u001b[39m)[\u001b[39m'\u001b[39m\u001b[39mvolume\u001b[39m\u001b[39m'\u001b[39m]\u001b[39m.\u001b[39msum()\u001b[39m.\u001b[39msort_values(ascending\u001b[39m=\u001b[39m\u001b[39mFalse\u001b[39;00m)], axis \u001b[39m=\u001b[39m \u001b[39m1\u001b[39m)\n",
      "File \u001b[0;32m/opt/miniconda3/envs/options/lib/python3.9/concurrent/futures/_base.py:637\u001b[0m, in \u001b[0;36mExecutor.__exit__\u001b[0;34m(self, exc_type, exc_val, exc_tb)\u001b[0m\n\u001b[1;32m    636\u001b[0m \u001b[39mdef\u001b[39;00m \u001b[39m__exit__\u001b[39m(\u001b[39mself\u001b[39m, exc_type, exc_val, exc_tb):\n\u001b[0;32m--> 637\u001b[0m     \u001b[39mself\u001b[39;49m\u001b[39m.\u001b[39;49mshutdown(wait\u001b[39m=\u001b[39;49m\u001b[39mTrue\u001b[39;49;00m)\n\u001b[1;32m    638\u001b[0m     \u001b[39mreturn\u001b[39;00m \u001b[39mFalse\u001b[39;00m\n",
      "File \u001b[0;32m/opt/miniconda3/envs/options/lib/python3.9/concurrent/futures/thread.py:235\u001b[0m, in \u001b[0;36mThreadPoolExecutor.shutdown\u001b[0;34m(self, wait, cancel_futures)\u001b[0m\n\u001b[1;32m    233\u001b[0m \u001b[39mif\u001b[39;00m wait:\n\u001b[1;32m    234\u001b[0m     \u001b[39mfor\u001b[39;00m t \u001b[39min\u001b[39;00m \u001b[39mself\u001b[39m\u001b[39m.\u001b[39m_threads:\n\u001b[0;32m--> 235\u001b[0m         t\u001b[39m.\u001b[39;49mjoin()\n",
      "File \u001b[0;32m/opt/miniconda3/envs/options/lib/python3.9/threading.py:1060\u001b[0m, in \u001b[0;36mThread.join\u001b[0;34m(self, timeout)\u001b[0m\n\u001b[1;32m   1057\u001b[0m     \u001b[39mraise\u001b[39;00m \u001b[39mRuntimeError\u001b[39;00m(\u001b[39m\"\u001b[39m\u001b[39mcannot join current thread\u001b[39m\u001b[39m\"\u001b[39m)\n\u001b[1;32m   1059\u001b[0m \u001b[39mif\u001b[39;00m timeout \u001b[39mis\u001b[39;00m \u001b[39mNone\u001b[39;00m:\n\u001b[0;32m-> 1060\u001b[0m     \u001b[39mself\u001b[39;49m\u001b[39m.\u001b[39;49m_wait_for_tstate_lock()\n\u001b[1;32m   1061\u001b[0m \u001b[39melse\u001b[39;00m:\n\u001b[1;32m   1062\u001b[0m     \u001b[39m# the behavior of a negative timeout isn't documented, but\u001b[39;00m\n\u001b[1;32m   1063\u001b[0m     \u001b[39m# historically .join(timeout=x) for x<0 has acted as if timeout=0\u001b[39;00m\n\u001b[1;32m   1064\u001b[0m     \u001b[39mself\u001b[39m\u001b[39m.\u001b[39m_wait_for_tstate_lock(timeout\u001b[39m=\u001b[39m\u001b[39mmax\u001b[39m(timeout, \u001b[39m0\u001b[39m))\n",
      "File \u001b[0;32m/opt/miniconda3/envs/options/lib/python3.9/threading.py:1080\u001b[0m, in \u001b[0;36mThread._wait_for_tstate_lock\u001b[0;34m(self, block, timeout)\u001b[0m\n\u001b[1;32m   1077\u001b[0m     \u001b[39mreturn\u001b[39;00m\n\u001b[1;32m   1079\u001b[0m \u001b[39mtry\u001b[39;00m:\n\u001b[0;32m-> 1080\u001b[0m     \u001b[39mif\u001b[39;00m lock\u001b[39m.\u001b[39;49macquire(block, timeout):\n\u001b[1;32m   1081\u001b[0m         lock\u001b[39m.\u001b[39mrelease()\n\u001b[1;32m   1082\u001b[0m         \u001b[39mself\u001b[39m\u001b[39m.\u001b[39m_stop()\n",
      "\u001b[0;31mKeyboardInterrupt\u001b[0m: "
     ]
    },
    {
     "name": "stderr",
     "output_type": "stream",
     "text": [
      "/var/folders/k2/d2y9gjxs0jz7tm_dt0tv243m0000gn/T/ipykernel_49851/2570180908.py:12: FutureWarning: Behavior when concatenating bool-dtype and numeric-dtype arrays is deprecated; in a future version these will cast to object dtype (instead of coercing bools to numeric values). To retain the old behavior, explicitly cast bool-dtype arrays to numeric dtype.\n",
      "  t_chain = pd.concat([t_calls, t_puts])\n",
      "/var/folders/k2/d2y9gjxs0jz7tm_dt0tv243m0000gn/T/ipykernel_49851/2570180908.py:12: FutureWarning: Behavior when concatenating bool-dtype and numeric-dtype arrays is deprecated; in a future version these will cast to object dtype (instead of coercing bools to numeric values). To retain the old behavior, explicitly cast bool-dtype arrays to numeric dtype.\n",
      "  t_chain = pd.concat([t_calls, t_puts])\n",
      "/var/folders/k2/d2y9gjxs0jz7tm_dt0tv243m0000gn/T/ipykernel_49851/2570180908.py:12: FutureWarning: Behavior when concatenating bool-dtype and numeric-dtype arrays is deprecated; in a future version these will cast to object dtype (instead of coercing bools to numeric values). To retain the old behavior, explicitly cast bool-dtype arrays to numeric dtype.\n",
      "  t_chain = pd.concat([t_calls, t_puts])\n",
      "/var/folders/k2/d2y9gjxs0jz7tm_dt0tv243m0000gn/T/ipykernel_49851/2570180908.py:12: FutureWarning: Behavior when concatenating bool-dtype and numeric-dtype arrays is deprecated; in a future version these will cast to object dtype (instead of coercing bools to numeric values). To retain the old behavior, explicitly cast bool-dtype arrays to numeric dtype.\n",
      "  t_chain = pd.concat([t_calls, t_puts])\n",
      "/var/folders/k2/d2y9gjxs0jz7tm_dt0tv243m0000gn/T/ipykernel_49851/2570180908.py:12: FutureWarning: Behavior when concatenating bool-dtype and numeric-dtype arrays is deprecated; in a future version these will cast to object dtype (instead of coercing bools to numeric values). To retain the old behavior, explicitly cast bool-dtype arrays to numeric dtype.\n",
      "  t_chain = pd.concat([t_calls, t_puts])\n",
      "/var/folders/k2/d2y9gjxs0jz7tm_dt0tv243m0000gn/T/ipykernel_49851/2570180908.py:12: FutureWarning: Behavior when concatenating bool-dtype and numeric-dtype arrays is deprecated; in a future version these will cast to object dtype (instead of coercing bools to numeric values). To retain the old behavior, explicitly cast bool-dtype arrays to numeric dtype.\n",
      "  t_chain = pd.concat([t_calls, t_puts])\n",
      "/var/folders/k2/d2y9gjxs0jz7tm_dt0tv243m0000gn/T/ipykernel_49851/2570180908.py:12: FutureWarning: Behavior when concatenating bool-dtype and numeric-dtype arrays is deprecated; in a future version these will cast to object dtype (instead of coercing bools to numeric values). To retain the old behavior, explicitly cast bool-dtype arrays to numeric dtype.\n",
      "  t_chain = pd.concat([t_calls, t_puts])\n",
      "/var/folders/k2/d2y9gjxs0jz7tm_dt0tv243m0000gn/T/ipykernel_49851/2570180908.py:12: FutureWarning: Behavior when concatenating bool-dtype and numeric-dtype arrays is deprecated; in a future version these will cast to object dtype (instead of coercing bools to numeric values). To retain the old behavior, explicitly cast bool-dtype arrays to numeric dtype.\n",
      "  t_chain = pd.concat([t_calls, t_puts])\n",
      "/var/folders/k2/d2y9gjxs0jz7tm_dt0tv243m0000gn/T/ipykernel_49851/2570180908.py:12: FutureWarning: Behavior when concatenating bool-dtype and numeric-dtype arrays is deprecated; in a future version these will cast to object dtype (instead of coercing bools to numeric values). To retain the old behavior, explicitly cast bool-dtype arrays to numeric dtype.\n",
      "  t_chain = pd.concat([t_calls, t_puts])\n",
      "/var/folders/k2/d2y9gjxs0jz7tm_dt0tv243m0000gn/T/ipykernel_49851/2570180908.py:12: FutureWarning: Behavior when concatenating bool-dtype and numeric-dtype arrays is deprecated; in a future version these will cast to object dtype (instead of coercing bools to numeric values). To retain the old behavior, explicitly cast bool-dtype arrays to numeric dtype.\n",
      "  t_chain = pd.concat([t_calls, t_puts])\n",
      "/var/folders/k2/d2y9gjxs0jz7tm_dt0tv243m0000gn/T/ipykernel_49851/2570180908.py:12: FutureWarning: Behavior when concatenating bool-dtype and numeric-dtype arrays is deprecated; in a future version these will cast to object dtype (instead of coercing bools to numeric values). To retain the old behavior, explicitly cast bool-dtype arrays to numeric dtype.\n",
      "  t_chain = pd.concat([t_calls, t_puts])\n",
      "/var/folders/k2/d2y9gjxs0jz7tm_dt0tv243m0000gn/T/ipykernel_49851/2570180908.py:12: FutureWarning: Behavior when concatenating bool-dtype and numeric-dtype arrays is deprecated; in a future version these will cast to object dtype (instead of coercing bools to numeric values). To retain the old behavior, explicitly cast bool-dtype arrays to numeric dtype.\n",
      "  t_chain = pd.concat([t_calls, t_puts])\n",
      "/var/folders/k2/d2y9gjxs0jz7tm_dt0tv243m0000gn/T/ipykernel_49851/2570180908.py:12: FutureWarning: Behavior when concatenating bool-dtype and numeric-dtype arrays is deprecated; in a future version these will cast to object dtype (instead of coercing bools to numeric values). To retain the old behavior, explicitly cast bool-dtype arrays to numeric dtype.\n",
      "  t_chain = pd.concat([t_calls, t_puts])\n"
     ]
    }
   ],
   "source": [
    "thread_count = 25\n",
    "name_count = 503\n",
    "\n",
    "test_frame_3 = pd.DataFrame()\n",
    "\n",
    "i = 0\n",
    "\n",
    "while i < 2:\n",
    "\n",
    "    thread_loop = []\n",
    "\n",
    "    with ThreadPoolExecutor(thread_count) as executor:\n",
    "        futures = [executor.submit(exp_retrieve, name, thread_loop) for name in names[:name_count]]\n",
    "        \n",
    "    with ThreadPoolExecutor(thread_count) as executor:\n",
    "        futures = [executor.submit(option_retrieve, tick, name, exp) for tick, name, exp in thread_loop]\n",
    "        \n",
    "    thread_chain = pd.concat([future.result() for future in futures]).sort_values(['ticker', 'expiry']).reset_index(drop = True)\n",
    "    \n",
    "    test_frame = pd.concat([test_frame, thread_chain.groupby('ticker')['volume'].sum().sort_values(ascending=False)], axis = 1)\n",
    "        \n",
    "    i+=1"
   ]
  },
  {
   "cell_type": "code",
   "execution_count": 1,
   "metadata": {},
   "outputs": [
    {
     "ename": "NameError",
     "evalue": "name 'opt_chain' is not defined",
     "output_type": "error",
     "traceback": [
      "\u001b[0;31m---------------------------------------------------------------------------\u001b[0m",
      "\u001b[0;31mNameError\u001b[0m                                 Traceback (most recent call last)",
      "Cell \u001b[0;32mIn [1], line 1\u001b[0m\n\u001b[0;32m----> 1\u001b[0m opt_chain\n",
      "\u001b[0;31mNameError\u001b[0m: name 'opt_chain' is not defined"
     ]
    }
   ],
   "source": [
    "opt_chain"
   ]
  },
  {
   "cell_type": "code",
   "execution_count": 324,
   "metadata": {},
   "outputs": [
    {
     "data": {
      "text/html": [
       "<div>\n",
       "<style scoped>\n",
       "    .dataframe tbody tr th:only-of-type {\n",
       "        vertical-align: middle;\n",
       "    }\n",
       "\n",
       "    .dataframe tbody tr th {\n",
       "        vertical-align: top;\n",
       "    }\n",
       "\n",
       "    .dataframe thead th {\n",
       "        text-align: right;\n",
       "    }\n",
       "</style>\n",
       "<table border=\"1\" class=\"dataframe\">\n",
       "  <thead>\n",
       "    <tr style=\"text-align: right;\">\n",
       "      <th></th>\n",
       "      <th>contractSymbol</th>\n",
       "      <th>lastTradeDate</th>\n",
       "      <th>strike</th>\n",
       "      <th>lastPrice</th>\n",
       "      <th>bid</th>\n",
       "      <th>ask</th>\n",
       "      <th>change</th>\n",
       "      <th>percentChange</th>\n",
       "      <th>volume</th>\n",
       "      <th>openInterest</th>\n",
       "      <th>impliedVolatility</th>\n",
       "      <th>inTheMoney</th>\n",
       "      <th>contractSize</th>\n",
       "      <th>currency</th>\n",
       "      <th>callput</th>\n",
       "      <th>expiry</th>\n",
       "      <th>ticker</th>\n",
       "      <th>stock_px</th>\n",
       "      <th>stock_ret</th>\n",
       "    </tr>\n",
       "  </thead>\n",
       "  <tbody>\n",
       "    <tr>\n",
       "      <th>0</th>\n",
       "      <td>A230120C00060000</td>\n",
       "      <td>2021-11-10 11:48:04+00:00</td>\n",
       "      <td>60.0</td>\n",
       "      <td>67.00</td>\n",
       "      <td>94.6</td>\n",
       "      <td>99.4</td>\n",
       "      <td>0.0</td>\n",
       "      <td>0.0</td>\n",
       "      <td>2.0</td>\n",
       "      <td>2.0</td>\n",
       "      <td>5.659183</td>\n",
       "      <td>True</td>\n",
       "      <td>REGULAR</td>\n",
       "      <td>USD</td>\n",
       "      <td>call</td>\n",
       "      <td>2023-01-20</td>\n",
       "      <td>A</td>\n",
       "      <td>147.669998</td>\n",
       "      <td>-0.029189</td>\n",
       "    </tr>\n",
       "    <tr>\n",
       "      <th>1</th>\n",
       "      <td>A230120C00075000</td>\n",
       "      <td>2022-07-22 17:59:00+00:00</td>\n",
       "      <td>75.0</td>\n",
       "      <td>51.44</td>\n",
       "      <td>58.2</td>\n",
       "      <td>60.0</td>\n",
       "      <td>0.0</td>\n",
       "      <td>0.0</td>\n",
       "      <td>2.0</td>\n",
       "      <td>0.0</td>\n",
       "      <td>0.000010</td>\n",
       "      <td>True</td>\n",
       "      <td>REGULAR</td>\n",
       "      <td>USD</td>\n",
       "      <td>call</td>\n",
       "      <td>2023-01-20</td>\n",
       "      <td>A</td>\n",
       "      <td>147.669998</td>\n",
       "      <td>-0.029189</td>\n",
       "    </tr>\n",
       "    <tr>\n",
       "      <th>2</th>\n",
       "      <td>A230120C00080000</td>\n",
       "      <td>2022-07-06 16:22:04+00:00</td>\n",
       "      <td>80.0</td>\n",
       "      <td>43.57</td>\n",
       "      <td>54.8</td>\n",
       "      <td>58.4</td>\n",
       "      <td>0.0</td>\n",
       "      <td>0.0</td>\n",
       "      <td>3.0</td>\n",
       "      <td>17.0</td>\n",
       "      <td>0.000010</td>\n",
       "      <td>True</td>\n",
       "      <td>REGULAR</td>\n",
       "      <td>USD</td>\n",
       "      <td>call</td>\n",
       "      <td>2023-01-20</td>\n",
       "      <td>A</td>\n",
       "      <td>147.669998</td>\n",
       "      <td>-0.029189</td>\n",
       "    </tr>\n",
       "    <tr>\n",
       "      <th>3</th>\n",
       "      <td>A230120C00085000</td>\n",
       "      <td>2021-11-16 15:10:37+00:00</td>\n",
       "      <td>85.0</td>\n",
       "      <td>77.60</td>\n",
       "      <td>68.5</td>\n",
       "      <td>72.5</td>\n",
       "      <td>0.0</td>\n",
       "      <td>0.0</td>\n",
       "      <td>5.0</td>\n",
       "      <td>6.0</td>\n",
       "      <td>3.597413</td>\n",
       "      <td>True</td>\n",
       "      <td>REGULAR</td>\n",
       "      <td>USD</td>\n",
       "      <td>call</td>\n",
       "      <td>2023-01-20</td>\n",
       "      <td>A</td>\n",
       "      <td>147.669998</td>\n",
       "      <td>-0.029189</td>\n",
       "    </tr>\n",
       "    <tr>\n",
       "      <th>4</th>\n",
       "      <td>A230120C00090000</td>\n",
       "      <td>2021-11-10 11:48:04+00:00</td>\n",
       "      <td>90.0</td>\n",
       "      <td>49.10</td>\n",
       "      <td>64.6</td>\n",
       "      <td>69.4</td>\n",
       "      <td>0.0</td>\n",
       "      <td>0.0</td>\n",
       "      <td>1.0</td>\n",
       "      <td>6.0</td>\n",
       "      <td>3.583009</td>\n",
       "      <td>True</td>\n",
       "      <td>REGULAR</td>\n",
       "      <td>USD</td>\n",
       "      <td>call</td>\n",
       "      <td>2023-01-20</td>\n",
       "      <td>A</td>\n",
       "      <td>147.669998</td>\n",
       "      <td>-0.029189</td>\n",
       "    </tr>\n",
       "    <tr>\n",
       "      <th>...</th>\n",
       "      <td>...</td>\n",
       "      <td>...</td>\n",
       "      <td>...</td>\n",
       "      <td>...</td>\n",
       "      <td>...</td>\n",
       "      <td>...</td>\n",
       "      <td>...</td>\n",
       "      <td>...</td>\n",
       "      <td>...</td>\n",
       "      <td>...</td>\n",
       "      <td>...</td>\n",
       "      <td>...</td>\n",
       "      <td>...</td>\n",
       "      <td>...</td>\n",
       "      <td>...</td>\n",
       "      <td>...</td>\n",
       "      <td>...</td>\n",
       "      <td>...</td>\n",
       "      <td>...</td>\n",
       "    </tr>\n",
       "    <tr>\n",
       "      <th>75308</th>\n",
       "      <td>ZTS240119P00210000</td>\n",
       "      <td>2021-11-04 19:23:18+00:00</td>\n",
       "      <td>210.0</td>\n",
       "      <td>31.57</td>\n",
       "      <td>26.8</td>\n",
       "      <td>31.5</td>\n",
       "      <td>0.0</td>\n",
       "      <td>0.0</td>\n",
       "      <td>NaN</td>\n",
       "      <td>6.0</td>\n",
       "      <td>0.000010</td>\n",
       "      <td>True</td>\n",
       "      <td>REGULAR</td>\n",
       "      <td>USD</td>\n",
       "      <td>put</td>\n",
       "      <td>2024-01-19</td>\n",
       "      <td>ZTS</td>\n",
       "      <td>147.639999</td>\n",
       "      <td>0.015057</td>\n",
       "    </tr>\n",
       "    <tr>\n",
       "      <th>75309</th>\n",
       "      <td>ZTS240119P00220000</td>\n",
       "      <td>2021-12-27 15:18:46+00:00</td>\n",
       "      <td>220.0</td>\n",
       "      <td>23.30</td>\n",
       "      <td>30.0</td>\n",
       "      <td>34.4</td>\n",
       "      <td>0.0</td>\n",
       "      <td>0.0</td>\n",
       "      <td>NaN</td>\n",
       "      <td>1.0</td>\n",
       "      <td>0.000010</td>\n",
       "      <td>True</td>\n",
       "      <td>REGULAR</td>\n",
       "      <td>USD</td>\n",
       "      <td>put</td>\n",
       "      <td>2024-01-19</td>\n",
       "      <td>ZTS</td>\n",
       "      <td>147.639999</td>\n",
       "      <td>0.015057</td>\n",
       "    </tr>\n",
       "    <tr>\n",
       "      <th>75310</th>\n",
       "      <td>ZTS240119P00230000</td>\n",
       "      <td>2021-12-13 05:02:25+00:00</td>\n",
       "      <td>230.0</td>\n",
       "      <td>35.00</td>\n",
       "      <td>35.5</td>\n",
       "      <td>39.5</td>\n",
       "      <td>0.0</td>\n",
       "      <td>0.0</td>\n",
       "      <td>NaN</td>\n",
       "      <td>1.0</td>\n",
       "      <td>0.000010</td>\n",
       "      <td>True</td>\n",
       "      <td>REGULAR</td>\n",
       "      <td>USD</td>\n",
       "      <td>put</td>\n",
       "      <td>2024-01-19</td>\n",
       "      <td>ZTS</td>\n",
       "      <td>147.639999</td>\n",
       "      <td>0.015057</td>\n",
       "    </tr>\n",
       "    <tr>\n",
       "      <th>75311</th>\n",
       "      <td>ZTS240119P00260000</td>\n",
       "      <td>2022-07-15 15:38:29+00:00</td>\n",
       "      <td>260.0</td>\n",
       "      <td>87.25</td>\n",
       "      <td>84.5</td>\n",
       "      <td>89.5</td>\n",
       "      <td>0.0</td>\n",
       "      <td>0.0</td>\n",
       "      <td>NaN</td>\n",
       "      <td>0.0</td>\n",
       "      <td>0.000010</td>\n",
       "      <td>True</td>\n",
       "      <td>REGULAR</td>\n",
       "      <td>USD</td>\n",
       "      <td>put</td>\n",
       "      <td>2024-01-19</td>\n",
       "      <td>ZTS</td>\n",
       "      <td>147.639999</td>\n",
       "      <td>0.015057</td>\n",
       "    </tr>\n",
       "    <tr>\n",
       "      <th>75312</th>\n",
       "      <td>ZTS240119P00360000</td>\n",
       "      <td>2022-07-06 18:39:10+00:00</td>\n",
       "      <td>360.0</td>\n",
       "      <td>181.06</td>\n",
       "      <td>177.5</td>\n",
       "      <td>182.5</td>\n",
       "      <td>0.0</td>\n",
       "      <td>0.0</td>\n",
       "      <td>NaN</td>\n",
       "      <td>2.0</td>\n",
       "      <td>0.000010</td>\n",
       "      <td>True</td>\n",
       "      <td>REGULAR</td>\n",
       "      <td>USD</td>\n",
       "      <td>put</td>\n",
       "      <td>2024-01-19</td>\n",
       "      <td>ZTS</td>\n",
       "      <td>147.639999</td>\n",
       "      <td>0.015057</td>\n",
       "    </tr>\n",
       "  </tbody>\n",
       "</table>\n",
       "<p>75313 rows × 19 columns</p>\n",
       "</div>"
      ],
      "text/plain": [
       "           contractSymbol             lastTradeDate  strike  lastPrice    bid  \\\n",
       "0        A230120C00060000 2021-11-10 11:48:04+00:00    60.0      67.00   94.6   \n",
       "1        A230120C00075000 2022-07-22 17:59:00+00:00    75.0      51.44   58.2   \n",
       "2        A230120C00080000 2022-07-06 16:22:04+00:00    80.0      43.57   54.8   \n",
       "3        A230120C00085000 2021-11-16 15:10:37+00:00    85.0      77.60   68.5   \n",
       "4        A230120C00090000 2021-11-10 11:48:04+00:00    90.0      49.10   64.6   \n",
       "...                   ...                       ...     ...        ...    ...   \n",
       "75308  ZTS240119P00210000 2021-11-04 19:23:18+00:00   210.0      31.57   26.8   \n",
       "75309  ZTS240119P00220000 2021-12-27 15:18:46+00:00   220.0      23.30   30.0   \n",
       "75310  ZTS240119P00230000 2021-12-13 05:02:25+00:00   230.0      35.00   35.5   \n",
       "75311  ZTS240119P00260000 2022-07-15 15:38:29+00:00   260.0      87.25   84.5   \n",
       "75312  ZTS240119P00360000 2022-07-06 18:39:10+00:00   360.0     181.06  177.5   \n",
       "\n",
       "         ask  change  percentChange  volume  openInterest  impliedVolatility  \\\n",
       "0       99.4     0.0            0.0     2.0           2.0           5.659183   \n",
       "1       60.0     0.0            0.0     2.0           0.0           0.000010   \n",
       "2       58.4     0.0            0.0     3.0          17.0           0.000010   \n",
       "3       72.5     0.0            0.0     5.0           6.0           3.597413   \n",
       "4       69.4     0.0            0.0     1.0           6.0           3.583009   \n",
       "...      ...     ...            ...     ...           ...                ...   \n",
       "75308   31.5     0.0            0.0     NaN           6.0           0.000010   \n",
       "75309   34.4     0.0            0.0     NaN           1.0           0.000010   \n",
       "75310   39.5     0.0            0.0     NaN           1.0           0.000010   \n",
       "75311   89.5     0.0            0.0     NaN           0.0           0.000010   \n",
       "75312  182.5     0.0            0.0     NaN           2.0           0.000010   \n",
       "\n",
       "      inTheMoney contractSize currency callput      expiry ticker    stock_px  \\\n",
       "0           True      REGULAR      USD    call  2023-01-20      A  147.669998   \n",
       "1           True      REGULAR      USD    call  2023-01-20      A  147.669998   \n",
       "2           True      REGULAR      USD    call  2023-01-20      A  147.669998   \n",
       "3           True      REGULAR      USD    call  2023-01-20      A  147.669998   \n",
       "4           True      REGULAR      USD    call  2023-01-20      A  147.669998   \n",
       "...          ...          ...      ...     ...         ...    ...         ...   \n",
       "75308       True      REGULAR      USD     put  2024-01-19    ZTS  147.639999   \n",
       "75309       True      REGULAR      USD     put  2024-01-19    ZTS  147.639999   \n",
       "75310       True      REGULAR      USD     put  2024-01-19    ZTS  147.639999   \n",
       "75311       True      REGULAR      USD     put  2024-01-19    ZTS  147.639999   \n",
       "75312       True      REGULAR      USD     put  2024-01-19    ZTS  147.639999   \n",
       "\n",
       "       stock_ret  \n",
       "0      -0.029189  \n",
       "1      -0.029189  \n",
       "2      -0.029189  \n",
       "3      -0.029189  \n",
       "4      -0.029189  \n",
       "...          ...  \n",
       "75308   0.015057  \n",
       "75309   0.015057  \n",
       "75310   0.015057  \n",
       "75311   0.015057  \n",
       "75312   0.015057  \n",
       "\n",
       "[75313 rows x 19 columns]"
      ]
     },
     "execution_count": 324,
     "metadata": {},
     "output_type": "execute_result"
    }
   ],
   "source": [
    "def get_mid_spread(df):\n",
    "    \n",
    "    "
   ]
  },
  {
   "cell_type": "code",
   "execution_count": 333,
   "metadata": {},
   "outputs": [
    {
     "name": "stderr",
     "output_type": "stream",
     "text": [
      "/var/folders/k2/d2y9gjxs0jz7tm_dt0tv243m0000gn/T/ipykernel_49851/4129784184.py:32: FutureWarning: Behavior when concatenating bool-dtype and numeric-dtype arrays is deprecated; in a future version these will cast to object dtype (instead of coercing bools to numeric values). To retain the old behavior, explicitly cast bool-dtype arrays to numeric dtype.\n",
      "  opt_chain = pd.concat([opt_chain, t_chain])\n",
      "/var/folders/k2/d2y9gjxs0jz7tm_dt0tv243m0000gn/T/ipykernel_49851/4129784184.py:23: FutureWarning: Behavior when concatenating bool-dtype and numeric-dtype arrays is deprecated; in a future version these will cast to object dtype (instead of coercing bools to numeric values). To retain the old behavior, explicitly cast bool-dtype arrays to numeric dtype.\n",
      "  t_chain = pd.concat([t_calls, t_puts])\n"
     ]
    }
   ],
   "source": [
    "tickers = yf.Tickers(name_query)\n",
    "\n",
    "opt_expiries = pd.DataFrame()\n",
    "opt_chain = pd.DataFrame()\n",
    "\n",
    "for name in names[:10]:\n",
    "    \n",
    "    tick = tickers.tickers[name]\n",
    "    \n",
    "    t_exp = pd.Series(tick.options, dtype=pd.StringDtype())\n",
    "    \n",
    "    if not t_exp.empty:\n",
    "    \n",
    "        for exp in t_exp:\n",
    "            \n",
    "            t_book = tick.option_chain(exp)\n",
    "            t_calls = t_book.calls\n",
    "            t_puts = t_book.puts\n",
    "            \n",
    "            t_calls['callput'] = 'call'\n",
    "            t_puts['callput'] = 'put'\n",
    "            \n",
    "            t_chain = pd.concat([t_calls, t_puts])\n",
    "            \n",
    "            t_chain['expiry'] = exp\n",
    "            t_chain['ticker'] = name\n",
    "            t_chain['stock_px'] = px['Adj Close'][name].iloc[-1]\n",
    "            t_chain['stock_ret'] = rets['Adj Close'][name].iloc[-1]\n",
    "            \n",
    "            t_chain.reset_index(drop=True, inplace=True)\n",
    "            \n",
    "            opt_chain = pd.concat([opt_chain, t_chain])\n",
    "            \n",
    "opt_chain.sort_values(['ticker', 'expiry']).reset_index(drop=True, inplace=True)"
   ]
  },
  {
   "cell_type": "code",
   "execution_count": 334,
   "metadata": {},
   "outputs": [],
   "source": [
    "today_array = [dt.date.today().strftime('%Y-%m-%d') for x in opt_chain.index]"
   ]
  },
  {
   "cell_type": "code",
   "execution_count": 335,
   "metadata": {},
   "outputs": [],
   "source": [
    "opt_chain['k_norm'] = opt_chain['strike'] / opt_chain['stock_px']\n",
    "opt_chain['1d_delta'] = opt_chain['change'] / 100 / opt_chain['stock_ret']\n",
    "opt_chain['t_exp'] = np.busday_count(today_array, [x for x in opt_chain['expiry']])"
   ]
  },
  {
   "cell_type": "code",
   "execution_count": null,
   "metadata": {},
   "outputs": [],
   "source": []
  },
  {
   "cell_type": "code",
   "execution_count": null,
   "metadata": {},
   "outputs": [],
   "source": []
  },
  {
   "cell_type": "code",
   "execution_count": null,
   "metadata": {},
   "outputs": [],
   "source": []
  },
  {
   "cell_type": "code",
   "execution_count": 336,
   "metadata": {},
   "outputs": [],
   "source": [
    "opt_chain['delta_calc'] = opt_chain.apply(lambda x: bs_delta(x.stock_px, x.t_exp/252, x.strike, 0, 0, x.impliedVolatility, x.callput), axis = 1)"
   ]
  },
  {
   "cell_type": "code",
   "execution_count": 337,
   "metadata": {},
   "outputs": [],
   "source": [
    "ticks = [name for name in opt_chain.groupby('ticker')['volume'].sum().sort_values(ascending=False)[:20].index]"
   ]
  },
  {
   "cell_type": "code",
   "execution_count": 338,
   "metadata": {},
   "outputs": [],
   "source": [
    "d_curve = opt_chain[(opt_chain['ticker'].isin(ticks)) & (opt_chain['expiry'] == '2023-01-20') & (opt_chain['callput'] == 'call')]"
   ]
  },
  {
   "cell_type": "code",
   "execution_count": 339,
   "metadata": {},
   "outputs": [
    {
     "data": {
      "text/plain": [
       "array(['MMM', 'AOS', 'ABT', 'ABBV', 'ACN', 'ATVI', 'ADM', 'ADBE', 'ADP',\n",
       "       'AAP'], dtype=object)"
      ]
     },
     "execution_count": 339,
     "metadata": {},
     "output_type": "execute_result"
    }
   ],
   "source": [
    "d_curve.ticker.unique()"
   ]
  },
  {
   "attachments": {},
   "cell_type": "markdown",
   "metadata": {},
   "source": [
    "Have index of np range 0.75 to 1.25 in 0.01 gaps. we dont need to actually mark to market for an option"
   ]
  },
  {
   "cell_type": "code",
   "execution_count": 340,
   "metadata": {},
   "outputs": [],
   "source": [
    "rebase_index = np.arange(0.75,1.26,0.01)\n",
    "smaller_index = np.arange(0.9,1.11,0.01)"
   ]
  },
  {
   "cell_type": "code",
   "execution_count": 341,
   "metadata": {},
   "outputs": [],
   "source": [
    "curves = pd.DataFrame()\n",
    "\n",
    "curve_df = pd.DataFrame(columns = ticks, index = rebase_index)\n",
    "\n",
    "for tick in ticks:\n",
    "    \n",
    "    t_curve = d_curve[d_curve['ticker'] == tick][['k_norm', 'delta_calc']].set_index('k_norm')\n",
    "\n",
    "    interp_curve = pd.DataFrame(np.interp(rebase_index, t_curve.index, t_curve.delta_calc), index = rebase_index)\n",
    "\n",
    "    curve_df[tick] = interp_curve"
   ]
  },
  {
   "cell_type": "code",
   "execution_count": 342,
   "metadata": {},
   "outputs": [
    {
     "data": {
      "text/plain": [
       "<AxesSubplot: >"
      ]
     },
     "execution_count": 342,
     "metadata": {},
     "output_type": "execute_result"
    },
    {
     "data": {
      "image/png": "[encoded data removed]",
      "text/plain": [
       "<Figure size 640x480 with 1 Axes>"
      ]
     },
     "metadata": {},
     "output_type": "display_data"
    }
   ],
   "source": [
    "curve_df.plot()"
   ]
  },
  {
   "cell_type": "code",
   "execution_count": null,
   "metadata": {},
   "outputs": [],
   "source": []
  }
 ],
 "metadata": {
  "kernelspec": {
   "display_name": "options",
   "language": "python",
   "name": "python3"
  },
  "language_info": {
   "codemirror_mode": {
    "name": "ipython",
    "version": 3
   },
   "file_extension": ".py",
   "mimetype": "text/x-python",
   "name": "python",
   "nbconvert_exporter": "python",
   "pygments_lexer": "ipython3",
   "version": "3.9.13"
  },
  "orig_nbformat": 4,
  "vscode": {
   "interpreter": {
    "hash": "0250ec5d23cbb2fe25831f39db261d937bc48e46d302e777121b762c79c3015f"
   }
  }
 },
 "nbformat": 4,
 "nbformat_minor": 2
}
