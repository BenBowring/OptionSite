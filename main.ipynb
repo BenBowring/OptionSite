{
 "cells": [
  {
   "attachments": {},
   "cell_type": "markdown",
   "metadata": {},
   "source": [
    "Imports and ignore future warnings"
   ]
  },
  {
   "cell_type": "code",
   "execution_count": 1,
   "metadata": {},
   "outputs": [],
   "source": [
    "import pandas as pd\n",
    "import requests\n",
    "from bs4 import BeautifulSoup\n",
    "import datetime as dt\n",
    "import yfinance as yf\n",
    "from concurrent.futures import ThreadPoolExecutor"
   ]
  },
  {
   "cell_type": "code",
   "execution_count": 2,
   "metadata": {},
   "outputs": [],
   "source": [
    "import warnings\n",
    "warnings.simplefilter(action='ignore', category=FutureWarning)"
   ]
  },
  {
   "cell_type": "code",
   "execution_count": 3,
   "metadata": {},
   "outputs": [],
   "source": [
    "from utils.calculations_simply import *\n",
    "from utils.df_operations import *\n",
    "from utils.yahoo_queries import *"
   ]
  },
  {
   "attachments": {},
   "cell_type": "markdown",
   "metadata": {},
   "source": [
    "Explore vol momentum as a ranking methodology"
   ]
  },
  {
   "attachments": {},
   "cell_type": "markdown",
   "metadata": {},
   "source": [
    "##### Simple pull of SPX names from wiki, slight correction in names with '-' instead of '.'"
   ]
  },
  {
   "cell_type": "code",
   "execution_count": 4,
   "metadata": {},
   "outputs": [],
   "source": [
    "html = requests.get('http://en.wikipedia.org/wiki/List_of_S%26P_500_companies')\n",
    "soup = BeautifulSoup(html.text, 'lxml')\n",
    "table = soup.find('table', {'class': 'wikitable sortable'})"
   ]
  },
  {
   "cell_type": "code",
   "execution_count": 5,
   "metadata": {},
   "outputs": [],
   "source": [
    "stock_data = pd.read_html(str(table))[0]\n",
    "names = [name.replace(\".\", \"-\") for name in stock_data.Symbol]\n",
    "name_query = \" \".join(names)"
   ]
  },
  {
   "attachments": {},
   "cell_type": "markdown",
   "metadata": {},
   "source": [
    "##### Download prices and returns for our universe of names for 1 business month"
   ]
  },
  {
   "cell_type": "code",
   "execution_count": 6,
   "metadata": {},
   "outputs": [],
   "source": [
    "delta_t = pd.tseries.offsets.BusinessDay(n = 21)\n",
    "end_date = dt.date.today()\n",
    "start_date = end_date - delta_t"
   ]
  },
  {
   "cell_type": "code",
   "execution_count": 7,
   "metadata": {},
   "outputs": [
    {
     "name": "stdout",
     "output_type": "stream",
     "text": [
      "[*********************100%***********************]  503 of 503 completed\n"
     ]
    }
   ],
   "source": [
    "px = yf.download(name_query, start=start_date)\n",
    "rets = px.pct_change(1)"
   ]
  },
  {
   "attachments": {},
   "cell_type": "markdown",
   "metadata": {},
   "source": [
    "##### Convert to ticker format such that we can call in threaded format"
   ]
  },
  {
   "cell_type": "code",
   "execution_count": 8,
   "metadata": {},
   "outputs": [],
   "source": [
    "tickers = yf.Tickers(name_query)"
   ]
  },
  {
   "cell_type": "code",
   "execution_count": 9,
   "metadata": {},
   "outputs": [],
   "source": [
    "thread_count = 25\n",
    "name_count = 200\n",
    "\n",
    "thread_loop = []\n",
    "\n",
    "with ThreadPoolExecutor(thread_count) as executor:\n",
    "    futures = [executor.submit(exp_retrieve, name, thread_loop, tickers) for name in names[:name_count]]\n",
    "    \n",
    "with ThreadPoolExecutor(thread_count) as executor:\n",
    "    futures = [executor.submit(option_retrieve, tick, name, exp, px, rets) for tick, name, exp in thread_loop]\n",
    "    \n",
    "opt_chain = pd.concat([future.result() for future in futures]).sort_values(['ticker', 'expiry']).reset_index(drop = True)"
   ]
  },
  {
   "attachments": {},
   "cell_type": "markdown",
   "metadata": {},
   "source": [
    "##### Calculate vol and delta values and insert into frame.\n",
    "\n",
    "1. Data is sparse in some cases, be it during some time of day or just a poor population on the yahoo side\n",
    "2. We will address this in future by finding best time to query and method to incrementally populate with best data"
   ]
  },
  {
   "cell_type": "code",
   "execution_count": 10,
   "metadata": {},
   "outputs": [
    {
     "name": "stderr",
     "output_type": "stream",
     "text": [
      "/Users/benjaminbowring/Desktop/Coding/OptionSite/utils/calculations_simply.py:22: RuntimeWarning: divide by zero encountered in double_scalars\n",
      "  d1 = (np.log(s / k) + (R + 0.5 * sigma ** 2) * t) / (sigma * np.sqrt(t))\n"
     ]
    }
   ],
   "source": [
    "test_chain = get_delta_values(opt_chain)\n",
    "test_chain = test_chain[test_chain['callput'] == 'call']"
   ]
  },
  {
   "cell_type": "code",
   "execution_count": 26,
   "metadata": {},
   "outputs": [
    {
     "data": {
      "text/plain": [
       "contractSymbol             AAPL230217C00055000\n",
       "lastTradeDate        2022-08-11 13:40:54+00:00\n",
       "strike                                    55.0\n",
       "lastPrice                                115.6\n",
       "bid                                      114.2\n",
       "ask                                     114.65\n",
       "change                                     5.4\n",
       "percentChange                          4.90018\n",
       "volume                                     2.0\n",
       "openInterest                             442.0\n",
       "impliedVolatility                     7.960938\n",
       "inTheMoney                                True\n",
       "contractSize                           REGULAR\n",
       "currency                                   USD\n",
       "callput                                   call\n",
       "expiry                              2023-02-17\n",
       "ticker                                    AAPL\n",
       "stock_px                            130.729996\n",
       "stock_ret                             0.004456\n",
       "k_norm                                0.420714\n",
       "1d_delta                             12.117375\n",
       "t_exp                                       27\n",
       "spread                                    0.45\n",
       "mid                                    114.425\n",
       "vol_calc                                   NaN\n",
       "delta_yahoo                            0.93112\n",
       "delta_calc                                 NaN\n",
       "Name: 954, dtype: object"
      ]
     },
     "execution_count": 26,
     "metadata": {},
     "output_type": "execute_result"
    }
   ],
   "source": [
    "test_chain[test_chain['ticker'] == 'AAPL'].iloc[50]"
   ]
  },
  {
   "cell_type": "code",
   "execution_count": 11,
   "metadata": {},
   "outputs": [],
   "source": [
    "rebase_index = np.arange(0.8,1.21,0.01)"
   ]
  },
  {
   "attachments": {},
   "cell_type": "markdown",
   "metadata": {},
   "source": [
    "##### Out of interest seeing the top 10 liquid names for the last trading day"
   ]
  },
  {
   "cell_type": "code",
   "execution_count": 12,
   "metadata": {},
   "outputs": [
    {
     "data": {
      "text/html": [
       "<div>\n",
       "<style scoped>\n",
       "    .dataframe tbody tr th:only-of-type {\n",
       "        vertical-align: middle;\n",
       "    }\n",
       "\n",
       "    .dataframe tbody tr th {\n",
       "        vertical-align: top;\n",
       "    }\n",
       "\n",
       "    .dataframe thead th {\n",
       "        text-align: right;\n",
       "    }\n",
       "</style>\n",
       "<table border=\"1\" class=\"dataframe\">\n",
       "  <thead>\n",
       "    <tr style=\"text-align: right;\">\n",
       "      <th></th>\n",
       "      <th>volume</th>\n",
       "    </tr>\n",
       "    <tr>\n",
       "      <th>ticker</th>\n",
       "      <th></th>\n",
       "    </tr>\n",
       "  </thead>\n",
       "  <tbody>\n",
       "    <tr>\n",
       "      <th>AMZN</th>\n",
       "      <td>398036.0</td>\n",
       "    </tr>\n",
       "    <tr>\n",
       "      <th>GOOGL</th>\n",
       "      <td>96032.0</td>\n",
       "    </tr>\n",
       "    <tr>\n",
       "      <th>GOOG</th>\n",
       "      <td>69892.0</td>\n",
       "    </tr>\n",
       "    <tr>\n",
       "      <th>BMY</th>\n",
       "      <td>39862.0</td>\n",
       "    </tr>\n",
       "    <tr>\n",
       "      <th>AAPL</th>\n",
       "      <td>39483.0</td>\n",
       "    </tr>\n",
       "    <tr>\n",
       "      <th>ABBV</th>\n",
       "      <td>31087.0</td>\n",
       "    </tr>\n",
       "    <tr>\n",
       "      <th>DIS</th>\n",
       "      <td>26066.0</td>\n",
       "    </tr>\n",
       "    <tr>\n",
       "      <th>T</th>\n",
       "      <td>24139.0</td>\n",
       "    </tr>\n",
       "    <tr>\n",
       "      <th>BAC</th>\n",
       "      <td>23833.0</td>\n",
       "    </tr>\n",
       "    <tr>\n",
       "      <th>CCL</th>\n",
       "      <td>18413.0</td>\n",
       "    </tr>\n",
       "  </tbody>\n",
       "</table>\n",
       "</div>"
      ],
      "text/plain": [
       "          volume\n",
       "ticker          \n",
       "AMZN    398036.0\n",
       "GOOGL    96032.0\n",
       "GOOG     69892.0\n",
       "BMY      39862.0\n",
       "AAPL     39483.0\n",
       "ABBV     31087.0\n",
       "DIS      26066.0\n",
       "T        24139.0\n",
       "BAC      23833.0\n",
       "CCL      18413.0"
      ]
     },
     "execution_count": 12,
     "metadata": {},
     "output_type": "execute_result"
    }
   ],
   "source": [
    "pd.DataFrame(test_chain.groupby('ticker')['volume'].sum().sort_values(ascending=False)[:10])"
   ]
  },
  {
   "cell_type": "code",
   "execution_count": 13,
   "metadata": {},
   "outputs": [],
   "source": [
    "ticks = [name for name in test_chain.groupby('ticker')['volume'].sum().sort_values(ascending=False)[:10].index]\n",
    "d_curve = test_chain[(test_chain['ticker'].isin(ticks)) & (test_chain['expiry'] == '2023-01-20') & (test_chain['callput'] == 'call')]"
   ]
  },
  {
   "attachments": {},
   "cell_type": "markdown",
   "metadata": {},
   "source": [
    "##### Interpolate live options onto fractional strike prices so we can get a full surface\n",
    "\n",
    "* In some cases impossible to avoid ugly surfaces due to poor population, as data is non-historic this is unavoidable and we will find ways to incrementally improve with multiple queries"
   ]
  },
  {
   "cell_type": "code",
   "execution_count": 14,
   "metadata": {},
   "outputs": [],
   "source": [
    "curves = pd.DataFrame()\n",
    "\n",
    "curve_df = pd.DataFrame(columns = ticks, index = rebase_index)\n",
    "\n",
    "for tick in ticks:\n",
    "    \n",
    "    t_curve = d_curve[d_curve['ticker'] == tick][['k_norm', 'delta_calc']].set_index('k_norm')\n",
    "\n",
    "    interp_curve = pd.DataFrame(np.interp(rebase_index, t_curve.index, t_curve.delta_calc), index = rebase_index)\n",
    "\n",
    "    curve_df[tick] = interp_curve"
   ]
  },
  {
   "attachments": {},
   "cell_type": "markdown",
   "metadata": {},
   "source": [
    "##### Curves look shocking in some cases due to low liquidity"
   ]
  },
  {
   "cell_type": "code",
   "execution_count": 15,
   "metadata": {},
   "outputs": [
    {
     "data": {
      "text/plain": [
       "<AxesSubplot: >"
      ]
     },
     "execution_count": 15,
     "metadata": {},
     "output_type": "execute_result"
    },
    {
     "data": {
      "image/png": "[encoded data removed]",
      "text/plain": [
       "<Figure size 640x480 with 1 Axes>"
      ]
     },
     "metadata": {},
     "output_type": "display_data"
    }
   ],
   "source": [
    "curve_df.plot()"
   ]
  },
  {
   "cell_type": "code",
   "execution_count": null,
   "metadata": {},
   "outputs": [],
   "source": []
  }
 ],
 "metadata": {
  "kernelspec": {
   "display_name": "options",
   "language": "python",
   "name": "python3"
  },
  "language_info": {
   "codemirror_mode": {
    "name": "ipython",
    "version": 3
   },
   "file_extension": ".py",
   "mimetype": "text/x-python",
   "name": "python",
   "nbconvert_exporter": "python",
   "pygments_lexer": "ipython3",
   "version": "3.9.13"
  },
  "orig_nbformat": 4,
  "vscode": {
   "interpreter": {
    "hash": "0250ec5d23cbb2fe25831f39db261d937bc48e46d302e777121b762c79c3015f"
   }
  }
 },
 "nbformat": 4,
 "nbformat_minor": 2
}
