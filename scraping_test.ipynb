{
 "cells": [
  {
   "cell_type": "code",
   "execution_count": 2,
   "metadata": {},
   "outputs": [],
   "source": [
    "import pandas as pd\n",
    "from bs4 import BeautifulSoup\n",
    "import requests\n",
    "import yfinance as yf\n",
    "import datetime as dt\n",
    "import numpy as np"
   ]
  },
  {
   "attachments": {},
   "cell_type": "markdown",
   "metadata": {},
   "source": [
    "Desktop Edit"
   ]
  },
  {
   "attachments": {},
   "cell_type": "markdown",
   "metadata": {},
   "source": [
    "Laptop Edit"
   ]
  },
  {
   "cell_type": "code",
   "execution_count": 3,
   "metadata": {},
   "outputs": [],
   "source": [
    "html = requests.get('http://en.wikipedia.org/wiki/List_of_S%26P_500_companies')\n",
    "soup = BeautifulSoup(html.text, 'lxml')\n",
    "table = soup.find('table', {'class': 'wikitable sortable'})"
   ]
  },
  {
   "cell_type": "code",
   "execution_count": 4,
   "metadata": {},
   "outputs": [],
   "source": [
    "stock_data = pd.read_html(str(table))[0]"
   ]
  },
  {
   "cell_type": "code",
   "execution_count": 5,
   "metadata": {},
   "outputs": [],
   "source": [
    "delta_t = pd.tseries.offsets.BusinessDay(n = 21)\n",
    "end_date = dt.date.today()\n",
    "start_date = end_date - delta_t"
   ]
  },
  {
   "cell_type": "code",
   "execution_count": 6,
   "metadata": {},
   "outputs": [],
   "source": [
    "names = [name.replace(\".\", \"-\") for name in stock_data.Symbol]"
   ]
  },
  {
   "cell_type": "code",
   "execution_count": 7,
   "metadata": {},
   "outputs": [],
   "source": [
    "name_query = \" \".join(names)"
   ]
  },
  {
   "cell_type": "code",
   "execution_count": 15,
   "metadata": {},
   "outputs": [
    {
     "name": "stdout",
     "output_type": "stream",
     "text": [
      "[*********************100%***********************]  503 of 503 completed\n"
     ]
    }
   ],
   "source": [
    "px = yf.download(name_query, start=start_date)"
   ]
  },
  {
   "cell_type": "code",
   "execution_count": 16,
   "metadata": {},
   "outputs": [
    {
     "name": "stdout",
     "output_type": "stream",
     "text": [
      "[*********************100%***********************]  503 of 503 completed\n"
     ]
    }
   ],
   "source": [
    "px_check = yf.download(name_query, start=start_date)"
   ]
  },
  {
   "cell_type": "code",
   "execution_count": 18,
   "metadata": {},
   "outputs": [
    {
     "data": {
      "text/plain": [
       "True"
      ]
     },
     "execution_count": 18,
     "metadata": {},
     "output_type": "execute_result"
    }
   ],
   "source": [
    "px_check.equals(px)"
   ]
  },
  {
   "attachments": {},
   "cell_type": "markdown",
   "metadata": {},
   "source": [
    "If we have to run a part of the script multiple times to check if correct, thats fine. Add it as a decorator"
   ]
  },
  {
   "cell_type": "code",
   "execution_count": 19,
   "metadata": {},
   "outputs": [],
   "source": [
    "rets = px.pct_change(1)"
   ]
  },
  {
   "attachments": {},
   "cell_type": "markdown",
   "metadata": {},
   "source": [
    "Download chain, check if empty, Create DF with name and concat as rows"
   ]
  },
  {
   "cell_type": "code",
   "execution_count": 144,
   "metadata": {},
   "outputs": [],
   "source": [
    "from concurrent.futures import ThreadPoolExecutor\n",
    "import itertools"
   ]
  },
  {
   "cell_type": "code",
   "execution_count": 274,
   "metadata": {},
   "outputs": [],
   "source": [
    "tickers = yf.Tickers(name_query)"
   ]
  },
  {
   "cell_type": "code",
   "execution_count": 275,
   "metadata": {},
   "outputs": [],
   "source": [
    "def exp_retrieve(name, thread_loop):\n",
    "    \n",
    "    tick = tickers.tickers[name]\n",
    "    t_exp = pd.Series(tick.options, dtype=pd.StringDtype())\n",
    "    \n",
    "    t_loop = [x for x in itertools.product([tick], [name], t_exp)]\n",
    "    \n",
    "    thread_loop.extend(t_loop)"
   ]
  },
  {
   "cell_type": "code",
   "execution_count": 193,
   "metadata": {},
   "outputs": [],
   "source": [
    "def option_retrieve(tick, name, exp):\n",
    "    \n",
    "    t_book = tick.option_chain(exp)\n",
    "    t_calls = t_book.calls\n",
    "    t_puts = t_book.puts\n",
    "    \n",
    "    t_calls['callput'] = 'call'\n",
    "    t_puts['callput'] = 'put'\n",
    "    \n",
    "    t_chain = pd.concat([t_calls, t_puts])\n",
    "    \n",
    "    t_chain['expiry'] = exp\n",
    "    t_chain['ticker'] = name\n",
    "    t_chain['stock_px'] = px['Adj Close'][name].iloc[-1]\n",
    "    t_chain['stock_ret'] = rets['Adj Close'][name].iloc[-1]\n",
    "    \n",
    "    t_chain.reset_index(drop=True, inplace=True)\n",
    "    \n",
    "    return t_chain"
   ]
  },
  {
   "cell_type": "code",
   "execution_count": 267,
   "metadata": {},
   "outputs": [],
   "source": []
  },
  {
   "cell_type": "code",
   "execution_count": 268,
   "metadata": {},
   "outputs": [],
   "source": [
    "thread_loop = []\n",
    "\n",
    "for name in names[:50]:\n",
    "    \n",
    "    tick = tickers.tickers[name]\n",
    "    t_exp = pd.Series(tick.options, dtype=pd.StringDtype())\n",
    "    \n",
    "    t_loop = [x for x in itertools.product([tick], [name], t_exp)]\n",
    "    \n",
    "    thread_loop.extend(t_loop)"
   ]
  },
  {
   "cell_type": "code",
   "execution_count": 301,
   "metadata": {},
   "outputs": [
    {
     "name": "stderr",
     "output_type": "stream",
     "text": [
      "/var/folders/k2/d2y9gjxs0jz7tm_dt0tv243m0000gn/T/ipykernel_49851/62273986.py:10: FutureWarning: Behavior when concatenating bool-dtype and numeric-dtype arrays is deprecated; in a future version these will cast to object dtype (instead of coercing bools to numeric values). To retain the old behavior, explicitly cast bool-dtype arrays to numeric dtype.\n",
      "  t_chain = pd.concat([t_calls, t_puts])\n",
      "/var/folders/k2/d2y9gjxs0jz7tm_dt0tv243m0000gn/T/ipykernel_49851/62273986.py:10: FutureWarning: Behavior when concatenating bool-dtype and numeric-dtype arrays is deprecated; in a future version these will cast to object dtype (instead of coercing bools to numeric values). To retain the old behavior, explicitly cast bool-dtype arrays to numeric dtype.\n",
      "  t_chain = pd.concat([t_calls, t_puts])\n",
      "/var/folders/k2/d2y9gjxs0jz7tm_dt0tv243m0000gn/T/ipykernel_49851/62273986.py:10: FutureWarning: Behavior when concatenating bool-dtype and numeric-dtype arrays is deprecated; in a future version these will cast to object dtype (instead of coercing bools to numeric values). To retain the old behavior, explicitly cast bool-dtype arrays to numeric dtype.\n",
      "  t_chain = pd.concat([t_calls, t_puts])\n",
      "/var/folders/k2/d2y9gjxs0jz7tm_dt0tv243m0000gn/T/ipykernel_49851/62273986.py:10: FutureWarning: Behavior when concatenating bool-dtype and numeric-dtype arrays is deprecated; in a future version these will cast to object dtype (instead of coercing bools to numeric values). To retain the old behavior, explicitly cast bool-dtype arrays to numeric dtype.\n",
      "  t_chain = pd.concat([t_calls, t_puts])\n"
     ]
    }
   ],
   "source": [
    "thread_count = 25\n",
    "name_count = 50\n",
    "\n",
    "test_frame = pd.DataFrame()\n",
    "\n",
    "i = 0\n",
    "\n",
    "while i < 2:\n",
    "\n",
    "    thread_loop = []\n",
    "\n",
    "    with ThreadPoolExecutor(thread_count) as executor:\n",
    "        futures = [executor.submit(exp_retrieve, name, thread_loop) for name in names[:name_count]]\n",
    "        \n",
    "    with ThreadPoolExecutor(thread_count) as executor:\n",
    "        futures = [executor.submit(option_retrieve, tick, name, exp) for tick, name, exp in thread_loop]\n",
    "        \n",
    "    thread_chain = pd.concat([future.result() for future in futures]).sort_values(['ticker', 'expiry']).reset_index(drop = True)\n",
    "    \n",
    "    test_frame = pd.concat([test_frame, thread_chain.groupby('ticker')['volume'].sum().sort_values(ascending=False)], axis = 1)\n",
    "        \n",
    "    i+=1"
   ]
  },
  {
   "cell_type": "code",
   "execution_count": null,
   "metadata": {},
   "outputs": [
    {
     "data": {
      "text/html": [
       "<div>\n",
       "<style scoped>\n",
       "    .dataframe tbody tr th:only-of-type {\n",
       "        vertical-align: middle;\n",
       "    }\n",
       "\n",
       "    .dataframe tbody tr th {\n",
       "        vertical-align: top;\n",
       "    }\n",
       "\n",
       "    .dataframe thead th {\n",
       "        text-align: right;\n",
       "    }\n",
       "</style>\n",
       "<table border=\"1\" class=\"dataframe\">\n",
       "  <thead>\n",
       "    <tr style=\"text-align: right;\">\n",
       "      <th></th>\n",
       "      <th>volume</th>\n",
       "    </tr>\n",
       "  </thead>\n",
       "  <tbody>\n",
       "    <tr>\n",
       "      <th>AMZN</th>\n",
       "      <td>1228876.0</td>\n",
       "    </tr>\n",
       "    <tr>\n",
       "      <th>AMD</th>\n",
       "      <td>450738.0</td>\n",
       "    </tr>\n",
       "    <tr>\n",
       "      <th>GOOGL</th>\n",
       "      <td>317331.0</td>\n",
       "    </tr>\n",
       "    <tr>\n",
       "      <th>GOOG</th>\n",
       "      <td>212794.0</td>\n",
       "    </tr>\n",
       "    <tr>\n",
       "      <th>AAL</th>\n",
       "      <td>117295.0</td>\n",
       "    </tr>\n",
       "    <tr>\n",
       "      <th>AAPL</th>\n",
       "      <td>80069.0</td>\n",
       "    </tr>\n",
       "    <tr>\n",
       "      <th>ATVI</th>\n",
       "      <td>44811.0</td>\n",
       "    </tr>\n",
       "    <tr>\n",
       "      <th>MO</th>\n",
       "      <td>36937.0</td>\n",
       "    </tr>\n",
       "    <tr>\n",
       "      <th>ADBE</th>\n",
       "      <td>35433.0</td>\n",
       "    </tr>\n",
       "    <tr>\n",
       "      <th>ABBV</th>\n",
       "      <td>31840.0</td>\n",
       "    </tr>\n",
       "    <tr>\n",
       "      <th>AXP</th>\n",
       "      <td>23848.0</td>\n",
       "    </tr>\n",
       "    <tr>\n",
       "      <th>MMM</th>\n",
       "      <td>15744.0</td>\n",
       "    </tr>\n",
       "    <tr>\n",
       "      <th>ABT</th>\n",
       "      <td>12487.0</td>\n",
       "    </tr>\n",
       "    <tr>\n",
       "      <th>ADM</th>\n",
       "      <td>9991.0</td>\n",
       "    </tr>\n",
       "    <tr>\n",
       "      <th>AIG</th>\n",
       "      <td>9913.0</td>\n",
       "    </tr>\n",
       "    <tr>\n",
       "      <th>AFL</th>\n",
       "      <td>7206.0</td>\n",
       "    </tr>\n",
       "    <tr>\n",
       "      <th>AKAM</th>\n",
       "      <td>7152.0</td>\n",
       "    </tr>\n",
       "    <tr>\n",
       "      <th>APD</th>\n",
       "      <td>6470.0</td>\n",
       "    </tr>\n",
       "    <tr>\n",
       "      <th>ALB</th>\n",
       "      <td>6334.0</td>\n",
       "    </tr>\n",
       "    <tr>\n",
       "      <th>ACN</th>\n",
       "      <td>5636.0</td>\n",
       "    </tr>\n",
       "    <tr>\n",
       "      <th>AMT</th>\n",
       "      <td>5336.0</td>\n",
       "    </tr>\n",
       "    <tr>\n",
       "      <th>AMAT</th>\n",
       "      <td>5032.0</td>\n",
       "    </tr>\n",
       "    <tr>\n",
       "      <th>ADP</th>\n",
       "      <td>4040.0</td>\n",
       "    </tr>\n",
       "    <tr>\n",
       "      <th>ALGN</th>\n",
       "      <td>3652.0</td>\n",
       "    </tr>\n",
       "    <tr>\n",
       "      <th>AES</th>\n",
       "      <td>3213.0</td>\n",
       "    </tr>\n",
       "    <tr>\n",
       "      <th>LNT</th>\n",
       "      <td>3203.0</td>\n",
       "    </tr>\n",
       "    <tr>\n",
       "      <th>AAP</th>\n",
       "      <td>2933.0</td>\n",
       "    </tr>\n",
       "    <tr>\n",
       "      <th>A</th>\n",
       "      <td>2871.0</td>\n",
       "    </tr>\n",
       "    <tr>\n",
       "      <th>AMGN</th>\n",
       "      <td>2581.0</td>\n",
       "    </tr>\n",
       "    <tr>\n",
       "      <th>AEP</th>\n",
       "      <td>2566.0</td>\n",
       "    </tr>\n",
       "    <tr>\n",
       "      <th>ABC</th>\n",
       "      <td>2150.0</td>\n",
       "    </tr>\n",
       "    <tr>\n",
       "      <th>ALL</th>\n",
       "      <td>2052.0</td>\n",
       "    </tr>\n",
       "    <tr>\n",
       "      <th>ALK</th>\n",
       "      <td>1952.0</td>\n",
       "    </tr>\n",
       "    <tr>\n",
       "      <th>ANET</th>\n",
       "      <td>1868.0</td>\n",
       "    </tr>\n",
       "    <tr>\n",
       "      <th>ADI</th>\n",
       "      <td>1673.0</td>\n",
       "    </tr>\n",
       "    <tr>\n",
       "      <th>APA</th>\n",
       "      <td>1598.0</td>\n",
       "    </tr>\n",
       "    <tr>\n",
       "      <th>AWK</th>\n",
       "      <td>1341.0</td>\n",
       "    </tr>\n",
       "    <tr>\n",
       "      <th>AON</th>\n",
       "      <td>914.0</td>\n",
       "    </tr>\n",
       "    <tr>\n",
       "      <th>AMCR</th>\n",
       "      <td>702.0</td>\n",
       "    </tr>\n",
       "    <tr>\n",
       "      <th>APH</th>\n",
       "      <td>665.0</td>\n",
       "    </tr>\n",
       "    <tr>\n",
       "      <th>AEE</th>\n",
       "      <td>624.0</td>\n",
       "    </tr>\n",
       "    <tr>\n",
       "      <th>ARE</th>\n",
       "      <td>574.0</td>\n",
       "    </tr>\n",
       "    <tr>\n",
       "      <th>APTV</th>\n",
       "      <td>394.0</td>\n",
       "    </tr>\n",
       "    <tr>\n",
       "      <th>AMP</th>\n",
       "      <td>371.0</td>\n",
       "    </tr>\n",
       "    <tr>\n",
       "      <th>AOS</th>\n",
       "      <td>284.0</td>\n",
       "    </tr>\n",
       "    <tr>\n",
       "      <th>ALLE</th>\n",
       "      <td>182.0</td>\n",
       "    </tr>\n",
       "    <tr>\n",
       "      <th>AJG</th>\n",
       "      <td>169.0</td>\n",
       "    </tr>\n",
       "    <tr>\n",
       "      <th>AME</th>\n",
       "      <td>48.0</td>\n",
       "    </tr>\n",
       "    <tr>\n",
       "      <th>ACGL</th>\n",
       "      <td>19.0</td>\n",
       "    </tr>\n",
       "    <tr>\n",
       "      <th>ANSS</th>\n",
       "      <td>12.0</td>\n",
       "    </tr>\n",
       "  </tbody>\n",
       "</table>\n",
       "</div>"
      ],
      "text/plain": [
       "          volume\n",
       "AMZN   1228876.0\n",
       "AMD     450738.0\n",
       "GOOGL   317331.0\n",
       "GOOG    212794.0\n",
       "AAL     117295.0\n",
       "AAPL     80069.0\n",
       "ATVI     44811.0\n",
       "MO       36937.0\n",
       "ADBE     35433.0\n",
       "ABBV     31840.0\n",
       "AXP      23848.0\n",
       "MMM      15744.0\n",
       "ABT      12487.0\n",
       "ADM       9991.0\n",
       "AIG       9913.0\n",
       "AFL       7206.0\n",
       "AKAM      7152.0\n",
       "APD       6470.0\n",
       "ALB       6334.0\n",
       "ACN       5636.0\n",
       "AMT       5336.0\n",
       "AMAT      5032.0\n",
       "ADP       4040.0\n",
       "ALGN      3652.0\n",
       "AES       3213.0\n",
       "LNT       3203.0\n",
       "AAP       2933.0\n",
       "A         2871.0\n",
       "AMGN      2581.0\n",
       "AEP       2566.0\n",
       "ABC       2150.0\n",
       "ALL       2052.0\n",
       "ALK       1952.0\n",
       "ANET      1868.0\n",
       "ADI       1673.0\n",
       "APA       1598.0\n",
       "AWK       1341.0\n",
       "AON        914.0\n",
       "AMCR       702.0\n",
       "APH        665.0\n",
       "AEE        624.0\n",
       "ARE        574.0\n",
       "APTV       394.0\n",
       "AMP        371.0\n",
       "AOS        284.0\n",
       "ALLE       182.0\n",
       "AJG        169.0\n",
       "AME         48.0\n",
       "ACGL        19.0\n",
       "ANSS        12.0"
      ]
     },
     "execution_count": 300,
     "metadata": {},
     "output_type": "execute_result"
    }
   ],
   "source": [
    "test_frame"
   ]
  },
  {
   "cell_type": "code",
   "execution_count": 242,
   "metadata": {},
   "outputs": [
    {
     "name": "stderr",
     "output_type": "stream",
     "text": [
      "/var/folders/k2/d2y9gjxs0jz7tm_dt0tv243m0000gn/T/ipykernel_49851/4129784184.py:23: FutureWarning: Behavior when concatenating bool-dtype and numeric-dtype arrays is deprecated; in a future version these will cast to object dtype (instead of coercing bools to numeric values). To retain the old behavior, explicitly cast bool-dtype arrays to numeric dtype.\n",
      "  t_chain = pd.concat([t_calls, t_puts])\n"
     ]
    }
   ],
   "source": [
    "tickers = yf.Tickers(name_query)\n",
    "\n",
    "opt_expiries = pd.DataFrame()\n",
    "opt_chain = pd.DataFrame()\n",
    "\n",
    "for name in names[:10]:\n",
    "    \n",
    "    tick = tickers.tickers[name]\n",
    "    \n",
    "    t_exp = pd.Series(tick.options, dtype=pd.StringDtype())\n",
    "    \n",
    "    if not t_exp.empty:\n",
    "    \n",
    "        for exp in t_exp:\n",
    "            \n",
    "            t_book = tick.option_chain(exp)\n",
    "            t_calls = t_book.calls\n",
    "            t_puts = t_book.puts\n",
    "            \n",
    "            t_calls['callput'] = 'call'\n",
    "            t_puts['callput'] = 'put'\n",
    "            \n",
    "            t_chain = pd.concat([t_calls, t_puts])\n",
    "            \n",
    "            t_chain['expiry'] = exp\n",
    "            t_chain['ticker'] = name\n",
    "            t_chain['stock_px'] = px['Adj Close'][name].iloc[-1]\n",
    "            t_chain['stock_ret'] = rets['Adj Close'][name].iloc[-1]\n",
    "            \n",
    "            t_chain.reset_index(drop=True, inplace=True)\n",
    "            \n",
    "            opt_chain = pd.concat([opt_chain, t_chain])\n",
    "            \n",
    "opt_chain.sort_values(['ticker', 'expiry']).reset_index(drop=True, inplace=True)"
   ]
  },
  {
   "cell_type": "code",
   "execution_count": 243,
   "metadata": {},
   "outputs": [
    {
     "data": {
      "text/html": [
       "<div>\n",
       "<style scoped>\n",
       "    .dataframe tbody tr th:only-of-type {\n",
       "        vertical-align: middle;\n",
       "    }\n",
       "\n",
       "    .dataframe tbody tr th {\n",
       "        vertical-align: top;\n",
       "    }\n",
       "\n",
       "    .dataframe thead th {\n",
       "        text-align: right;\n",
       "    }\n",
       "</style>\n",
       "<table border=\"1\" class=\"dataframe\">\n",
       "  <thead>\n",
       "    <tr style=\"text-align: right;\">\n",
       "      <th></th>\n",
       "      <th>ticker</th>\n",
       "      <th>expiry</th>\n",
       "      <th>strike</th>\n",
       "      <th>impliedVolatility</th>\n",
       "    </tr>\n",
       "  </thead>\n",
       "  <tbody>\n",
       "    <tr>\n",
       "      <th>0</th>\n",
       "      <td>AAP</td>\n",
       "      <td>2023-01-13</td>\n",
       "      <td>130.0</td>\n",
       "      <td>0.000010</td>\n",
       "    </tr>\n",
       "    <tr>\n",
       "      <th>1</th>\n",
       "      <td>AAP</td>\n",
       "      <td>2023-01-13</td>\n",
       "      <td>135.0</td>\n",
       "      <td>0.797365</td>\n",
       "    </tr>\n",
       "    <tr>\n",
       "      <th>2</th>\n",
       "      <td>AAP</td>\n",
       "      <td>2023-01-13</td>\n",
       "      <td>140.0</td>\n",
       "      <td>0.605961</td>\n",
       "    </tr>\n",
       "    <tr>\n",
       "      <th>3</th>\n",
       "      <td>AAP</td>\n",
       "      <td>2023-01-13</td>\n",
       "      <td>144.0</td>\n",
       "      <td>0.536626</td>\n",
       "    </tr>\n",
       "    <tr>\n",
       "      <th>4</th>\n",
       "      <td>AAP</td>\n",
       "      <td>2023-01-13</td>\n",
       "      <td>145.0</td>\n",
       "      <td>0.545415</td>\n",
       "    </tr>\n",
       "  </tbody>\n",
       "</table>\n",
       "</div>"
      ],
      "text/plain": [
       "  ticker      expiry  strike  impliedVolatility\n",
       "0    AAP  2023-01-13   130.0           0.000010\n",
       "1    AAP  2023-01-13   135.0           0.797365\n",
       "2    AAP  2023-01-13   140.0           0.605961\n",
       "3    AAP  2023-01-13   144.0           0.536626\n",
       "4    AAP  2023-01-13   145.0           0.545415"
      ]
     },
     "execution_count": 243,
     "metadata": {},
     "output_type": "execute_result"
    }
   ],
   "source": [
    "opt_chain.sort_values(['ticker', 'expiry']).head()[['ticker', 'expiry', 'strike', 'impliedVolatility']]"
   ]
  },
  {
   "cell_type": "code",
   "execution_count": 116,
   "metadata": {},
   "outputs": [],
   "source": [
    "today_array = [dt.date.today().strftime('%Y-%m-%d') for x in opt_chain.index]"
   ]
  },
  {
   "cell_type": "code",
   "execution_count": 117,
   "metadata": {},
   "outputs": [],
   "source": [
    "opt_chain['k_norm'] = opt_chain['strike'] / opt_chain['stock_px']\n",
    "opt_chain['1d_delta'] = opt_chain['change'] / 100 / opt_chain['stock_ret']\n",
    "opt_chain['t_exp'] = np.busday_count(today_array, [x for x in opt_chain['expiry']])"
   ]
  },
  {
   "cell_type": "code",
   "execution_count": 118,
   "metadata": {},
   "outputs": [],
   "source": [
    "import numpy as np\n",
    "\n",
    "gDaysInYear = 365.0  # .242\n",
    "gSmall = 1e-12\n",
    "gNotebookMode = False\n",
    "\n",
    "INVROOT2PI = 0.3989422804014327\n",
    "\n",
    "def n_vect(x):\n",
    "    return N(x)"
   ]
  },
  {
   "cell_type": "code",
   "execution_count": 119,
   "metadata": {},
   "outputs": [],
   "source": [
    "def N(x):\n",
    "    \"\"\" Fast Normal CDF function based on Hull OFAODS  4th Edition Page 252.\n",
    "    This function is accurate to 6 decimal places. \"\"\"\n",
    "\n",
    "    a1 = 0.319381530\n",
    "    a2 = -0.356563782\n",
    "    a3 = 1.781477937\n",
    "    a4 = -1.821255978\n",
    "    a5 = 1.330274429\n",
    "    g = 0.2316419\n",
    "\n",
    "    k = 1.0 / (1.0 + g * np.abs(x))\n",
    "    k2 = k * k\n",
    "    k3 = k2 * k\n",
    "    k4 = k3 * k\n",
    "    k5 = k4 * k\n",
    "\n",
    "    if x >= 0.0:\n",
    "        c = (a1 * k + a2 * k2 + a3 * k3 + a4 * k4 + a5 * k5)\n",
    "        phi = 1.0 - c * np.exp(-x*x/2.0) * INVROOT2PI\n",
    "    else:\n",
    "        phi = 1.0 - N(-x)\n",
    "\n",
    "    return phi"
   ]
  },
  {
   "cell_type": "code",
   "execution_count": 120,
   "metadata": {},
   "outputs": [],
   "source": [
    "def bs_delta(s, t, k, r, q, v, p_c):\n",
    "    \"\"\" Price a derivative using Black-Scholes model. \"\"\"\n",
    "\n",
    "    if p_c == 'call':\n",
    "        phi = +1.0\n",
    "    elif p_c == 'put':\n",
    "        phi = -1.0\n",
    "\n",
    "    k = np.maximum(k, gSmall)\n",
    "    t = np.maximum(t, gSmall)\n",
    "    v = np.maximum(v, gSmall)\n",
    "\n",
    "    vsqrtT = v * np.sqrt(t)\n",
    "    ss = s * np.exp(-q*t)\n",
    "    kk = k * np.exp(-r*t)\n",
    "    d1 = np.log(ss/kk) / vsqrtT + vsqrtT / 2.0\n",
    "    delta = phi * np.exp(-q*t) * n_vect(phi * d1)\n",
    "    return delta"
   ]
  },
  {
   "cell_type": "code",
   "execution_count": 121,
   "metadata": {},
   "outputs": [],
   "source": [
    "opt_chain['delta_calc'] = opt_chain.apply(lambda x: bs_delta(x.stock_px, x.t_exp/252, x.strike, 0, 0, x.impliedVolatility, x.callput), axis = 1)"
   ]
  },
  {
   "cell_type": "code",
   "execution_count": 122,
   "metadata": {},
   "outputs": [],
   "source": [
    "ticks = [name for name in opt_chain.groupby('ticker')['volume'].sum().sort_values(ascending=False)[:20].index]"
   ]
  },
  {
   "cell_type": "code",
   "execution_count": 123,
   "metadata": {},
   "outputs": [],
   "source": [
    "d_curve = opt_chain[(opt_chain['ticker'].isin(ticks)) & (opt_chain['expiry'] == '2023-01-20') & (opt_chain['callput'] == 'call')]"
   ]
  },
  {
   "cell_type": "code",
   "execution_count": 124,
   "metadata": {},
   "outputs": [
    {
     "data": {
      "text/plain": [
       "array(['MMM', 'ABT', 'ABBV', 'ATVI', 'ADM', 'ADBE', 'GOOGL', 'GOOG', 'MO',\n",
       "       'AMZN', 'AMD', 'AAL', 'AXP', 'AIG', 'AMGN', 'ADI', 'APA', 'AAPL',\n",
       "       'AMAT', 'ANET'], dtype=object)"
      ]
     },
     "execution_count": 124,
     "metadata": {},
     "output_type": "execute_result"
    }
   ],
   "source": [
    "d_curve.ticker.unique()"
   ]
  },
  {
   "attachments": {},
   "cell_type": "markdown",
   "metadata": {},
   "source": [
    "Have index of np range 0.75 to 1.25 in 0.01 gaps. we dont need to actually mark to market for an option"
   ]
  },
  {
   "cell_type": "code",
   "execution_count": 125,
   "metadata": {},
   "outputs": [],
   "source": [
    "rebase_index = np.arange(0.75,1.26,0.01)\n",
    "smaller_index = np.arange(0.9,1.11,0.01)"
   ]
  },
  {
   "cell_type": "code",
   "execution_count": 126,
   "metadata": {},
   "outputs": [],
   "source": [
    "curves = pd.DataFrame()\n",
    "\n",
    "curve_df = pd.DataFrame(columns = ticks, index = rebase_index)\n",
    "\n",
    "for tick in ticks:\n",
    "    \n",
    "    t_curve = d_curve[d_curve['ticker'] == tick][['k_norm', 'delta_calc']].set_index('k_norm')\n",
    "\n",
    "    interp_curve = pd.DataFrame(np.interp(rebase_index, t_curve.index, t_curve.delta_calc), index = rebase_index)\n",
    "\n",
    "    curve_df[tick] = interp_curve"
   ]
  },
  {
   "cell_type": "code",
   "execution_count": 127,
   "metadata": {},
   "outputs": [
    {
     "data": {
      "text/plain": [
       "<AxesSubplot: >"
      ]
     },
     "execution_count": 127,
     "metadata": {},
     "output_type": "execute_result"
    },
    {
     "data": {
      "image/png": "[encoded data removed]",
      "text/plain": [
       "<Figure size 640x480 with 1 Axes>"
      ]
     },
     "metadata": {},
     "output_type": "display_data"
    }
   ],
   "source": [
    "curve_df.plot()"
   ]
  },
  {
   "cell_type": "code",
   "execution_count": null,
   "metadata": {},
   "outputs": [],
   "source": []
  }
 ],
 "metadata": {
  "kernelspec": {
   "display_name": "options",
   "language": "python",
   "name": "python3"
  },
  "language_info": {
   "codemirror_mode": {
    "name": "ipython",
    "version": 3
   },
   "file_extension": ".py",
   "mimetype": "text/x-python",
   "name": "python",
   "nbconvert_exporter": "python",
   "pygments_lexer": "ipython3",
   "version": "3.9.13"
  },
  "orig_nbformat": 4,
  "vscode": {
   "interpreter": {
    "hash": "0250ec5d23cbb2fe25831f39db261d937bc48e46d302e777121b762c79c3015f"
   }
  }
 },
 "nbformat": 4,
 "nbformat_minor": 2
}
